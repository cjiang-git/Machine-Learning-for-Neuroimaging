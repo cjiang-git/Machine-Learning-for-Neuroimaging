{
 "cells": [
  {
   "cell_type": "code",
   "execution_count": 1,
   "id": "5a498266",
   "metadata": {},
   "outputs": [],
   "source": [
    "lst1 = [590,748,579,544,570,598,599,673,635,714,580,565]"
   ]
  },
  {
   "cell_type": "code",
   "execution_count": 2,
   "id": "e08327e8",
   "metadata": {},
   "outputs": [
    {
     "data": {
      "text/plain": [
       "616.25"
      ]
     },
     "execution_count": 2,
     "metadata": {},
     "output_type": "execute_result"
    }
   ],
   "source": [
    "sum(lst1)/12"
   ]
  },
  {
   "cell_type": "code",
   "execution_count": 3,
   "id": "c2f00827",
   "metadata": {},
   "outputs": [],
   "source": [
    "def chi_sqr(a,b,c,d):\n",
    "    return (a-b)**2/b+(c-d)**2/d"
   ]
  },
  {
   "cell_type": "code",
   "execution_count": 4,
   "id": "1c07414a",
   "metadata": {},
   "outputs": [
    {
     "data": {
      "text/plain": [
       "49.0"
      ]
     },
     "execution_count": 4,
     "metadata": {},
     "output_type": "execute_result"
    }
   ],
   "source": [
    "chi_sqr(85,50,15,50)"
   ]
  },
  {
   "cell_type": "code",
   "execution_count": 5,
   "id": "84d51924",
   "metadata": {},
   "outputs": [
    {
     "data": {
      "text/plain": [
       "5.333333333333333"
      ]
     },
     "execution_count": 5,
     "metadata": {},
     "output_type": "execute_result"
    }
   ],
   "source": [
    "chi_sqr(85,75,15,25)"
   ]
  },
  {
   "cell_type": "code",
   "execution_count": 6,
   "id": "e91c854e",
   "metadata": {},
   "outputs": [
    {
     "data": {
      "text/plain": [
       "4.745098039215686"
      ]
     },
     "execution_count": 6,
     "metadata": {},
     "output_type": "execute_result"
    }
   ],
   "source": [
    "chi_sqr(37,42.5,13,7.5)"
   ]
  },
  {
   "cell_type": "code",
   "execution_count": 8,
   "id": "ec4c32ae",
   "metadata": {},
   "outputs": [
    {
     "data": {
      "text/plain": [
       "2.25"
      ]
     },
     "execution_count": 8,
     "metadata": {},
     "output_type": "execute_result"
    }
   ],
   "source": [
    "chi_sqr(5,8,11,8)"
   ]
  },
  {
   "cell_type": "code",
   "execution_count": null,
   "id": "ce0aa61e",
   "metadata": {},
   "outputs": [],
   "source": []
  }
 ],
 "metadata": {
  "kernelspec": {
   "display_name": "Python 3 (ipykernel)",
   "language": "python",
   "name": "python3"
  },
  "language_info": {
   "codemirror_mode": {
    "name": "ipython",
    "version": 3
   },
   "file_extension": ".py",
   "mimetype": "text/x-python",
   "name": "python",
   "nbconvert_exporter": "python",
   "pygments_lexer": "ipython3",
   "version": "3.8.12"
  }
 },
 "nbformat": 4,
 "nbformat_minor": 5
}
