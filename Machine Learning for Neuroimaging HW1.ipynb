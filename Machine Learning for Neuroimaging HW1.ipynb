{
 "cells": [
  {
   "cell_type": "code",
   "execution_count": 1,
   "id": "b610509c",
   "metadata": {},
   "outputs": [],
   "source": [
    "import numpy as np\n",
    "import pandas as pd\n",
    "import matplotlib.pyplot as plt\n",
    "import seaborn as sns\n",
    "import scipy.stats as stats\n",
    "from scipy.stats import chi2_contingency\n",
    "import statsmodels.api as sm\n",
    "import statistics\n",
    "import math"
   ]
  },
  {
   "cell_type": "code",
   "execution_count": 2,
   "id": "c1a9902e",
   "metadata": {},
   "outputs": [
    {
     "data": {
      "text/html": [
       "<div>\n",
       "<style scoped>\n",
       "    .dataframe tbody tr th:only-of-type {\n",
       "        vertical-align: middle;\n",
       "    }\n",
       "\n",
       "    .dataframe tbody tr th {\n",
       "        vertical-align: top;\n",
       "    }\n",
       "\n",
       "    .dataframe thead th {\n",
       "        text-align: right;\n",
       "    }\n",
       "</style>\n",
       "<table border=\"1\" class=\"dataframe\">\n",
       "  <thead>\n",
       "    <tr style=\"text-align: right;\">\n",
       "      <th></th>\n",
       "      <th>age</th>\n",
       "      <th>sex</th>\n",
       "      <th>diagnosis</th>\n",
       "      <th>Frontal_Sup</th>\n",
       "      <th>Frontal_Inf</th>\n",
       "      <th>Cingulum_Ant</th>\n",
       "      <th>Cingulum_Post</th>\n",
       "      <th>Parietal_Sup</th>\n",
       "      <th>Parietal_Inf</th>\n",
       "      <th>Occipital_Sup</th>\n",
       "      <th>Occipital_Inf</th>\n",
       "      <th>Temporal_Sup</th>\n",
       "      <th>Temporal_Inf</th>\n",
       "    </tr>\n",
       "  </thead>\n",
       "  <tbody>\n",
       "    <tr>\n",
       "      <th>0</th>\n",
       "      <td>43.368493</td>\n",
       "      <td>0</td>\n",
       "      <td>0</td>\n",
       "      <td>0.541704</td>\n",
       "      <td>0.553985</td>\n",
       "      <td>0.577727</td>\n",
       "      <td>0.502631</td>\n",
       "      <td>0.539654</td>\n",
       "      <td>0.562739</td>\n",
       "      <td>0.584094</td>\n",
       "      <td>0.656325</td>\n",
       "      <td>0.529551</td>\n",
       "      <td>0.521926</td>\n",
       "    </tr>\n",
       "    <tr>\n",
       "      <th>1</th>\n",
       "      <td>36.654435</td>\n",
       "      <td>0</td>\n",
       "      <td>0</td>\n",
       "      <td>0.665915</td>\n",
       "      <td>0.477778</td>\n",
       "      <td>0.525422</td>\n",
       "      <td>0.473192</td>\n",
       "      <td>0.589977</td>\n",
       "      <td>0.656130</td>\n",
       "      <td>0.677115</td>\n",
       "      <td>0.571440</td>\n",
       "      <td>0.430463</td>\n",
       "      <td>0.499023</td>\n",
       "    </tr>\n",
       "    <tr>\n",
       "      <th>2</th>\n",
       "      <td>37.998386</td>\n",
       "      <td>0</td>\n",
       "      <td>0</td>\n",
       "      <td>0.385500</td>\n",
       "      <td>0.535842</td>\n",
       "      <td>0.651637</td>\n",
       "      <td>0.556026</td>\n",
       "      <td>0.451074</td>\n",
       "      <td>0.602841</td>\n",
       "      <td>0.578349</td>\n",
       "      <td>0.626247</td>\n",
       "      <td>0.511696</td>\n",
       "      <td>0.531485</td>\n",
       "    </tr>\n",
       "    <tr>\n",
       "      <th>3</th>\n",
       "      <td>36.640988</td>\n",
       "      <td>0</td>\n",
       "      <td>0</td>\n",
       "      <td>0.601210</td>\n",
       "      <td>0.500756</td>\n",
       "      <td>0.614601</td>\n",
       "      <td>0.581634</td>\n",
       "      <td>0.489078</td>\n",
       "      <td>0.615674</td>\n",
       "      <td>0.579836</td>\n",
       "      <td>0.548231</td>\n",
       "      <td>0.499937</td>\n",
       "      <td>0.612477</td>\n",
       "    </tr>\n",
       "    <tr>\n",
       "      <th>4</th>\n",
       "      <td>42.878145</td>\n",
       "      <td>0</td>\n",
       "      <td>0</td>\n",
       "      <td>0.529871</td>\n",
       "      <td>0.521045</td>\n",
       "      <td>0.576609</td>\n",
       "      <td>0.557342</td>\n",
       "      <td>0.494459</td>\n",
       "      <td>0.577652</td>\n",
       "      <td>0.668027</td>\n",
       "      <td>0.520755</td>\n",
       "      <td>0.521910</td>\n",
       "      <td>0.503761</td>\n",
       "    </tr>\n",
       "    <tr>\n",
       "      <th>...</th>\n",
       "      <td>...</td>\n",
       "      <td>...</td>\n",
       "      <td>...</td>\n",
       "      <td>...</td>\n",
       "      <td>...</td>\n",
       "      <td>...</td>\n",
       "      <td>...</td>\n",
       "      <td>...</td>\n",
       "      <td>...</td>\n",
       "      <td>...</td>\n",
       "      <td>...</td>\n",
       "      <td>...</td>\n",
       "      <td>...</td>\n",
       "    </tr>\n",
       "    <tr>\n",
       "      <th>95</th>\n",
       "      <td>45.966536</td>\n",
       "      <td>1</td>\n",
       "      <td>1</td>\n",
       "      <td>0.555299</td>\n",
       "      <td>0.597638</td>\n",
       "      <td>0.553309</td>\n",
       "      <td>0.523025</td>\n",
       "      <td>0.525431</td>\n",
       "      <td>0.667517</td>\n",
       "      <td>0.502397</td>\n",
       "      <td>0.601756</td>\n",
       "      <td>0.494372</td>\n",
       "      <td>0.637729</td>\n",
       "    </tr>\n",
       "    <tr>\n",
       "      <th>96</th>\n",
       "      <td>48.160286</td>\n",
       "      <td>1</td>\n",
       "      <td>1</td>\n",
       "      <td>0.524961</td>\n",
       "      <td>0.631617</td>\n",
       "      <td>0.382947</td>\n",
       "      <td>0.410978</td>\n",
       "      <td>0.505315</td>\n",
       "      <td>0.611400</td>\n",
       "      <td>0.605452</td>\n",
       "      <td>0.625818</td>\n",
       "      <td>0.445138</td>\n",
       "      <td>0.534949</td>\n",
       "    </tr>\n",
       "    <tr>\n",
       "      <th>97</th>\n",
       "      <td>32.339052</td>\n",
       "      <td>1</td>\n",
       "      <td>1</td>\n",
       "      <td>0.490657</td>\n",
       "      <td>0.652892</td>\n",
       "      <td>0.654747</td>\n",
       "      <td>0.656929</td>\n",
       "      <td>0.521088</td>\n",
       "      <td>0.702478</td>\n",
       "      <td>0.640216</td>\n",
       "      <td>0.537376</td>\n",
       "      <td>0.642808</td>\n",
       "      <td>0.598981</td>\n",
       "    </tr>\n",
       "    <tr>\n",
       "      <th>98</th>\n",
       "      <td>33.315738</td>\n",
       "      <td>1</td>\n",
       "      <td>1</td>\n",
       "      <td>0.584763</td>\n",
       "      <td>0.602108</td>\n",
       "      <td>0.465685</td>\n",
       "      <td>0.602878</td>\n",
       "      <td>0.693304</td>\n",
       "      <td>0.707188</td>\n",
       "      <td>0.685981</td>\n",
       "      <td>0.683557</td>\n",
       "      <td>0.697648</td>\n",
       "      <td>0.688851</td>\n",
       "    </tr>\n",
       "    <tr>\n",
       "      <th>99</th>\n",
       "      <td>32.630768</td>\n",
       "      <td>1</td>\n",
       "      <td>1</td>\n",
       "      <td>0.498238</td>\n",
       "      <td>0.661749</td>\n",
       "      <td>0.460143</td>\n",
       "      <td>0.661333</td>\n",
       "      <td>0.694017</td>\n",
       "      <td>0.742571</td>\n",
       "      <td>0.596009</td>\n",
       "      <td>0.785511</td>\n",
       "      <td>0.575335</td>\n",
       "      <td>0.539668</td>\n",
       "    </tr>\n",
       "  </tbody>\n",
       "</table>\n",
       "<p>100 rows × 13 columns</p>\n",
       "</div>"
      ],
      "text/plain": [
       "          age  sex  diagnosis  Frontal_Sup  Frontal_Inf  Cingulum_Ant  \\\n",
       "0   43.368493    0          0     0.541704     0.553985      0.577727   \n",
       "1   36.654435    0          0     0.665915     0.477778      0.525422   \n",
       "2   37.998386    0          0     0.385500     0.535842      0.651637   \n",
       "3   36.640988    0          0     0.601210     0.500756      0.614601   \n",
       "4   42.878145    0          0     0.529871     0.521045      0.576609   \n",
       "..        ...  ...        ...          ...          ...           ...   \n",
       "95  45.966536    1          1     0.555299     0.597638      0.553309   \n",
       "96  48.160286    1          1     0.524961     0.631617      0.382947   \n",
       "97  32.339052    1          1     0.490657     0.652892      0.654747   \n",
       "98  33.315738    1          1     0.584763     0.602108      0.465685   \n",
       "99  32.630768    1          1     0.498238     0.661749      0.460143   \n",
       "\n",
       "    Cingulum_Post  Parietal_Sup  Parietal_Inf  Occipital_Sup  Occipital_Inf  \\\n",
       "0        0.502631      0.539654      0.562739       0.584094       0.656325   \n",
       "1        0.473192      0.589977      0.656130       0.677115       0.571440   \n",
       "2        0.556026      0.451074      0.602841       0.578349       0.626247   \n",
       "3        0.581634      0.489078      0.615674       0.579836       0.548231   \n",
       "4        0.557342      0.494459      0.577652       0.668027       0.520755   \n",
       "..            ...           ...           ...            ...            ...   \n",
       "95       0.523025      0.525431      0.667517       0.502397       0.601756   \n",
       "96       0.410978      0.505315      0.611400       0.605452       0.625818   \n",
       "97       0.656929      0.521088      0.702478       0.640216       0.537376   \n",
       "98       0.602878      0.693304      0.707188       0.685981       0.683557   \n",
       "99       0.661333      0.694017      0.742571       0.596009       0.785511   \n",
       "\n",
       "    Temporal_Sup  Temporal_Inf  \n",
       "0       0.529551      0.521926  \n",
       "1       0.430463      0.499023  \n",
       "2       0.511696      0.531485  \n",
       "3       0.499937      0.612477  \n",
       "4       0.521910      0.503761  \n",
       "..           ...           ...  \n",
       "95      0.494372      0.637729  \n",
       "96      0.445138      0.534949  \n",
       "97      0.642808      0.598981  \n",
       "98      0.697648      0.688851  \n",
       "99      0.575335      0.539668  \n",
       "\n",
       "[100 rows x 13 columns]"
      ]
     },
     "execution_count": 2,
     "metadata": {},
     "output_type": "execute_result"
    }
   ],
   "source": [
    "data_path = './data_assignment_1.csv'\n",
    "data_df = pd.read_csv(data_path)\n",
    "data_df"
   ]
  },
  {
   "cell_type": "markdown",
   "id": "aaa94de3",
   "metadata": {},
   "source": [
    "### Step 1: Residualize Data to remove effect of age and sex"
   ]
  },
  {
   "cell_type": "code",
   "execution_count": 3,
   "id": "412464b8",
   "metadata": {},
   "outputs": [
    {
     "name": "stdout",
     "output_type": "stream",
     "text": [
      "['Frontal_Sup', 'Frontal_Inf', 'Cingulum_Ant', 'Cingulum_Post', 'Parietal_Sup', 'Parietal_Inf', 'Occipital_Sup', 'Occipital_Inf', 'Temporal_Sup', 'Temporal_Inf']\n",
      "                 Generalized Linear Model Regression Results                  \n",
      "==============================================================================\n",
      "Dep. Variable:            Frontal_Sup   No. Observations:                  100\n",
      "Model:                            GLM   Df Residuals:                       97\n",
      "Model Family:                Gaussian   Df Model:                            2\n",
      "Link Function:               identity   Scale:                       0.0059860\n",
      "Method:                          IRLS   Log-Likelihood:                 115.55\n",
      "Date:                Wed, 25 Oct 2023   Deviance:                      0.58064\n",
      "Time:                        01:13:07   Pearson chi2:                    0.581\n",
      "No. Iterations:                     3                                         \n",
      "Covariance Type:            nonrobust                                         \n",
      "==============================================================================\n",
      "                 coef    std err          z      P>|z|      [0.025      0.975]\n",
      "------------------------------------------------------------------------------\n",
      "Intercept      0.7320      0.060     12.253      0.000       0.615       0.849\n",
      "age           -0.0047      0.001     -3.241      0.001      -0.008      -0.002\n",
      "sex            0.0300      0.015      1.940      0.052      -0.000       0.060\n",
      "==============================================================================\n",
      "                 Generalized Linear Model Regression Results                  \n",
      "==============================================================================\n",
      "Dep. Variable:            Frontal_Inf   No. Observations:                  100\n",
      "Model:                            GLM   Df Residuals:                       97\n",
      "Model Family:                Gaussian   Df Model:                            2\n",
      "Link Function:               identity   Scale:                       0.0045134\n",
      "Method:                          IRLS   Log-Likelihood:                 129.66\n",
      "Date:                Wed, 25 Oct 2023   Deviance:                      0.43780\n",
      "Time:                        01:13:07   Pearson chi2:                    0.438\n",
      "No. Iterations:                     3                                         \n",
      "Covariance Type:            nonrobust                                         \n",
      "==============================================================================\n",
      "                 coef    std err          z      P>|z|      [0.025      0.975]\n",
      "------------------------------------------------------------------------------\n",
      "Intercept      0.6934      0.052     13.366      0.000       0.592       0.795\n",
      "age           -0.0047      0.001     -3.692      0.000      -0.007      -0.002\n",
      "sex            0.0704      0.013      5.241      0.000       0.044       0.097\n",
      "==============================================================================\n",
      "                 Generalized Linear Model Regression Results                  \n",
      "==============================================================================\n",
      "Dep. Variable:           Cingulum_Ant   No. Observations:                  100\n",
      "Model:                            GLM   Df Residuals:                       97\n",
      "Model Family:                Gaussian   Df Model:                            2\n",
      "Link Function:               identity   Scale:                       0.0058927\n",
      "Method:                          IRLS   Log-Likelihood:                 116.33\n",
      "Date:                Wed, 25 Oct 2023   Deviance:                      0.57159\n",
      "Time:                        01:13:07   Pearson chi2:                    0.572\n",
      "No. Iterations:                     3                                         \n",
      "Covariance Type:            nonrobust                                         \n",
      "==============================================================================\n",
      "                 coef    std err          z      P>|z|      [0.025      0.975]\n",
      "------------------------------------------------------------------------------\n",
      "Intercept      0.7129      0.059     12.026      0.000       0.597       0.829\n",
      "age           -0.0042      0.001     -2.938      0.003      -0.007      -0.001\n",
      "sex            0.0620      0.015      4.039      0.000       0.032       0.092\n",
      "==============================================================================\n",
      "                 Generalized Linear Model Regression Results                  \n",
      "==============================================================================\n",
      "Dep. Variable:          Cingulum_Post   No. Observations:                  100\n",
      "Model:                            GLM   Df Residuals:                       97\n",
      "Model Family:                Gaussian   Df Model:                            2\n",
      "Link Function:               identity   Scale:                       0.0048008\n",
      "Method:                          IRLS   Log-Likelihood:                 126.58\n",
      "Date:                Wed, 25 Oct 2023   Deviance:                      0.46567\n",
      "Time:                        01:13:07   Pearson chi2:                    0.466\n",
      "No. Iterations:                     3                                         \n",
      "Covariance Type:            nonrobust                                         \n",
      "==============================================================================\n",
      "                 coef    std err          z      P>|z|      [0.025      0.975]\n",
      "------------------------------------------------------------------------------\n",
      "Intercept      0.8166      0.054     15.262      0.000       0.712       0.921\n",
      "age           -0.0086      0.001     -6.590      0.000      -0.011      -0.006\n",
      "sex            0.0961      0.014      6.933      0.000       0.069       0.123\n",
      "==============================================================================\n",
      "                 Generalized Linear Model Regression Results                  \n",
      "==============================================================================\n",
      "Dep. Variable:           Parietal_Sup   No. Observations:                  100\n",
      "Model:                            GLM   Df Residuals:                       97\n",
      "Model Family:                Gaussian   Df Model:                            2\n",
      "Link Function:               identity   Scale:                       0.0034450\n",
      "Method:                          IRLS   Log-Likelihood:                 143.17\n",
      "Date:                Wed, 25 Oct 2023   Deviance:                      0.33417\n",
      "Time:                        01:13:07   Pearson chi2:                    0.334\n",
      "No. Iterations:                     3                                         \n",
      "Covariance Type:            nonrobust                                         \n",
      "==============================================================================\n",
      "                 coef    std err          z      P>|z|      [0.025      0.975]\n",
      "------------------------------------------------------------------------------\n",
      "Intercept      0.7322      0.045     16.155      0.000       0.643       0.821\n",
      "age           -0.0047      0.001     -4.283      0.000      -0.007      -0.003\n",
      "sex            0.0522      0.012      4.449      0.000       0.029       0.075\n",
      "==============================================================================\n",
      "                 Generalized Linear Model Regression Results                  \n",
      "==============================================================================\n",
      "Dep. Variable:           Parietal_Inf   No. Observations:                  100\n",
      "Model:                            GLM   Df Residuals:                       97\n",
      "Model Family:                Gaussian   Df Model:                            2\n",
      "Link Function:               identity   Scale:                       0.0041162\n",
      "Method:                          IRLS   Log-Likelihood:                 134.27\n",
      "Date:                Wed, 25 Oct 2023   Deviance:                      0.39928\n",
      "Time:                        01:13:07   Pearson chi2:                    0.399\n",
      "No. Iterations:                     3                                         \n",
      "Covariance Type:            nonrobust                                         \n",
      "==============================================================================\n",
      "                 coef    std err          z      P>|z|      [0.025      0.975]\n",
      "------------------------------------------------------------------------------\n",
      "Intercept      0.6995      0.050     14.118      0.000       0.602       0.797\n",
      "age           -0.0030      0.001     -2.480      0.013      -0.005      -0.001\n",
      "sex            0.0610      0.013      4.756      0.000       0.036       0.086\n",
      "==============================================================================\n",
      "                 Generalized Linear Model Regression Results                  \n",
      "==============================================================================\n",
      "Dep. Variable:          Occipital_Sup   No. Observations:                  100\n",
      "Model:                            GLM   Df Residuals:                       97\n",
      "Model Family:                Gaussian   Df Model:                            2\n",
      "Link Function:               identity   Scale:                       0.0042130\n",
      "Method:                          IRLS   Log-Likelihood:                 133.11\n",
      "Date:                Wed, 25 Oct 2023   Deviance:                      0.40866\n",
      "Time:                        01:13:07   Pearson chi2:                    0.409\n",
      "No. Iterations:                     3                                         \n",
      "Covariance Type:            nonrobust                                         \n",
      "==============================================================================\n",
      "                 coef    std err          z      P>|z|      [0.025      0.975]\n",
      "------------------------------------------------------------------------------\n",
      "Intercept      0.7155      0.050     14.274      0.000       0.617       0.814\n",
      "age           -0.0037      0.001     -3.048      0.002      -0.006      -0.001\n",
      "sex            0.0507      0.013      3.903      0.000       0.025       0.076\n",
      "==============================================================================\n",
      "                 Generalized Linear Model Regression Results                  \n",
      "==============================================================================\n",
      "Dep. Variable:          Occipital_Inf   No. Observations:                  100\n",
      "Model:                            GLM   Df Residuals:                       97\n",
      "Model Family:                Gaussian   Df Model:                            2\n",
      "Link Function:               identity   Scale:                       0.0046200\n",
      "Method:                          IRLS   Log-Likelihood:                 128.50\n",
      "Date:                Wed, 25 Oct 2023   Deviance:                      0.44814\n",
      "Time:                        01:13:07   Pearson chi2:                    0.448\n",
      "No. Iterations:                     3                                         \n",
      "Covariance Type:            nonrobust                                         \n",
      "==============================================================================\n",
      "                 coef    std err          z      P>|z|      [0.025      0.975]\n",
      "------------------------------------------------------------------------------\n",
      "Intercept      0.6788      0.052     12.932      0.000       0.576       0.782\n",
      "age           -0.0039      0.001     -3.020      0.003      -0.006      -0.001\n",
      "sex            0.0890      0.014      6.544      0.000       0.062       0.116\n",
      "==============================================================================\n",
      "                 Generalized Linear Model Regression Results                  \n",
      "==============================================================================\n",
      "Dep. Variable:           Temporal_Sup   No. Observations:                  100\n",
      "Model:                            GLM   Df Residuals:                       97\n",
      "Model Family:                Gaussian   Df Model:                            2\n",
      "Link Function:               identity   Scale:                       0.0042194\n",
      "Method:                          IRLS   Log-Likelihood:                 133.03\n",
      "Date:                Wed, 25 Oct 2023   Deviance:                      0.40928\n",
      "Time:                        01:13:07   Pearson chi2:                    0.409\n",
      "No. Iterations:                     3                                         \n",
      "Covariance Type:            nonrobust                                         \n",
      "==============================================================================\n",
      "                 coef    std err          z      P>|z|      [0.025      0.975]\n",
      "------------------------------------------------------------------------------\n",
      "Intercept      0.7605      0.050     15.162      0.000       0.662       0.859\n",
      "age           -0.0066      0.001     -5.367      0.000      -0.009      -0.004\n",
      "sex            0.0548      0.013      4.217      0.000       0.029       0.080\n",
      "==============================================================================\n",
      "                 Generalized Linear Model Regression Results                  \n",
      "==============================================================================\n",
      "Dep. Variable:           Temporal_Inf   No. Observations:                  100\n",
      "Model:                            GLM   Df Residuals:                       97\n",
      "Model Family:                Gaussian   Df Model:                            2\n",
      "Link Function:               identity   Scale:                       0.0046236\n",
      "Method:                          IRLS   Log-Likelihood:                 128.46\n",
      "Date:                Wed, 25 Oct 2023   Deviance:                      0.44849\n",
      "Time:                        01:13:07   Pearson chi2:                    0.448\n",
      "No. Iterations:                     3                                         \n",
      "Covariance Type:            nonrobust                                         \n",
      "==============================================================================\n",
      "                 coef    std err          z      P>|z|      [0.025      0.975]\n",
      "------------------------------------------------------------------------------\n",
      "Intercept      0.7689      0.053     14.644      0.000       0.666       0.872\n",
      "age           -0.0064      0.001     -4.997      0.000      -0.009      -0.004\n",
      "sex            0.0759      0.014      5.583      0.000       0.049       0.103\n",
      "==============================================================================\n",
      "Residualization complete!\n"
     ]
    }
   ],
   "source": [
    "#Used code from Tutorial 3 as scaffold\n",
    "\n",
    "\n",
    "res_df = data_df #Residualized Dataframe\n",
    "mean_age = np.mean(data_df['age'])\n",
    "\n",
    "reference_sex = 0\n",
    "\n",
    "biomarkers = list(data_df.columns)[3:]\n",
    "\n",
    "#confirm correct biomarkers\n",
    "print(biomarkers)\n",
    "\n",
    "\n",
    "for feature in biomarkers:\n",
    "    # endog --> the variable we want to model\n",
    "    endog = res_df[feature]\n",
    "    \n",
    "    # Intercept/constant --> the mean value of the response variable when all predictor variables \n",
    "    # in the model are equal to zero\n",
    "    res_df[\"Intercept\"] = 1\n",
    "    \n",
    "    # exog --> the covariates alias explanatory variables\n",
    "    exog = res_df[[\"Intercept\", \"age\", \"sex\"]]\n",
    "    \n",
    "    # Generalized linear model\n",
    "    md = sm.GLM(endog, exog, family=sm.families.Gaussian())\n",
    "\n",
    "    # Fit the regression model\n",
    "    md = md.fit()\n",
    "    print(md.summary())\n",
    "    # Save the \n",
    "    feature_name = feature + '_prime'\n",
    "\n",
    "    # Calculate residual variables that end in 'prime'\n",
    "    res_df[feature_name] = res_df[feature] - (md.params[1] * (res_df[\"sex\"] - reference_sex) + \n",
    "                                                        md.params[2] * (res_df[\"age\"] - mean_age))\n",
    "\n",
    "print('Residualization complete!')\n"
   ]
  },
  {
   "cell_type": "code",
   "execution_count": 4,
   "id": "e6137ac4",
   "metadata": {
    "scrolled": true
   },
   "outputs": [
    {
     "data": {
      "text/html": [
       "<div>\n",
       "<style scoped>\n",
       "    .dataframe tbody tr th:only-of-type {\n",
       "        vertical-align: middle;\n",
       "    }\n",
       "\n",
       "    .dataframe tbody tr th {\n",
       "        vertical-align: top;\n",
       "    }\n",
       "\n",
       "    .dataframe thead th {\n",
       "        text-align: right;\n",
       "    }\n",
       "</style>\n",
       "<table border=\"1\" class=\"dataframe\">\n",
       "  <thead>\n",
       "    <tr style=\"text-align: right;\">\n",
       "      <th></th>\n",
       "      <th>age</th>\n",
       "      <th>sex</th>\n",
       "      <th>diagnosis</th>\n",
       "      <th>Frontal_Sup</th>\n",
       "      <th>Frontal_Inf</th>\n",
       "      <th>Cingulum_Ant</th>\n",
       "      <th>Cingulum_Post</th>\n",
       "      <th>Parietal_Sup</th>\n",
       "      <th>Parietal_Inf</th>\n",
       "      <th>Occipital_Sup</th>\n",
       "      <th>...</th>\n",
       "      <th>Frontal_Sup_prime</th>\n",
       "      <th>Frontal_Inf_prime</th>\n",
       "      <th>Cingulum_Ant_prime</th>\n",
       "      <th>Cingulum_Post_prime</th>\n",
       "      <th>Parietal_Sup_prime</th>\n",
       "      <th>Parietal_Inf_prime</th>\n",
       "      <th>Occipital_Sup_prime</th>\n",
       "      <th>Occipital_Inf_prime</th>\n",
       "      <th>Temporal_Sup_prime</th>\n",
       "      <th>Temporal_Inf_prime</th>\n",
       "    </tr>\n",
       "  </thead>\n",
       "  <tbody>\n",
       "    <tr>\n",
       "      <th>0</th>\n",
       "      <td>43.368493</td>\n",
       "      <td>0</td>\n",
       "      <td>0</td>\n",
       "      <td>0.541704</td>\n",
       "      <td>0.553985</td>\n",
       "      <td>0.577727</td>\n",
       "      <td>0.502631</td>\n",
       "      <td>0.539654</td>\n",
       "      <td>0.562739</td>\n",
       "      <td>0.584094</td>\n",
       "      <td>...</td>\n",
       "      <td>0.453216</td>\n",
       "      <td>0.346410</td>\n",
       "      <td>0.394954</td>\n",
       "      <td>0.219458</td>\n",
       "      <td>0.385718</td>\n",
       "      <td>0.382858</td>\n",
       "      <td>0.434766</td>\n",
       "      <td>0.394109</td>\n",
       "      <td>0.368090</td>\n",
       "      <td>0.298147</td>\n",
       "    </tr>\n",
       "    <tr>\n",
       "      <th>1</th>\n",
       "      <td>36.654435</td>\n",
       "      <td>0</td>\n",
       "      <td>0</td>\n",
       "      <td>0.665915</td>\n",
       "      <td>0.477778</td>\n",
       "      <td>0.525422</td>\n",
       "      <td>0.473192</td>\n",
       "      <td>0.589977</td>\n",
       "      <td>0.656130</td>\n",
       "      <td>0.677115</td>\n",
       "      <td>...</td>\n",
       "      <td>0.779007</td>\n",
       "      <td>0.743069</td>\n",
       "      <td>0.759014</td>\n",
       "      <td>0.835101</td>\n",
       "      <td>0.786714</td>\n",
       "      <td>0.886027</td>\n",
       "      <td>0.867963</td>\n",
       "      <td>0.906564</td>\n",
       "      <td>0.636818</td>\n",
       "      <td>0.785023</td>\n",
       "    </tr>\n",
       "    <tr>\n",
       "      <th>2</th>\n",
       "      <td>37.998386</td>\n",
       "      <td>0</td>\n",
       "      <td>0</td>\n",
       "      <td>0.385500</td>\n",
       "      <td>0.535842</td>\n",
       "      <td>0.651637</td>\n",
       "      <td>0.556026</td>\n",
       "      <td>0.451074</td>\n",
       "      <td>0.602841</td>\n",
       "      <td>0.578349</td>\n",
       "      <td>...</td>\n",
       "      <td>0.458242</td>\n",
       "      <td>0.706480</td>\n",
       "      <td>0.801886</td>\n",
       "      <td>0.788809</td>\n",
       "      <td>0.577617</td>\n",
       "      <td>0.750712</td>\n",
       "      <td>0.701104</td>\n",
       "      <td>0.841803</td>\n",
       "      <td>0.644425</td>\n",
       "      <td>0.715443</td>\n",
       "    </tr>\n",
       "    <tr>\n",
       "      <th>3</th>\n",
       "      <td>36.640988</td>\n",
       "      <td>0</td>\n",
       "      <td>0</td>\n",
       "      <td>0.601210</td>\n",
       "      <td>0.500756</td>\n",
       "      <td>0.614601</td>\n",
       "      <td>0.581634</td>\n",
       "      <td>0.489078</td>\n",
       "      <td>0.615674</td>\n",
       "      <td>0.579836</td>\n",
       "      <td>...</td>\n",
       "      <td>0.714706</td>\n",
       "      <td>0.766994</td>\n",
       "      <td>0.849027</td>\n",
       "      <td>0.944835</td>\n",
       "      <td>0.686517</td>\n",
       "      <td>0.846391</td>\n",
       "      <td>0.771366</td>\n",
       "      <td>0.884553</td>\n",
       "      <td>0.707028</td>\n",
       "      <td>0.899498</td>\n",
       "    </tr>\n",
       "    <tr>\n",
       "      <th>4</th>\n",
       "      <td>42.878145</td>\n",
       "      <td>0</td>\n",
       "      <td>0</td>\n",
       "      <td>0.529871</td>\n",
       "      <td>0.521045</td>\n",
       "      <td>0.576609</td>\n",
       "      <td>0.557342</td>\n",
       "      <td>0.494459</td>\n",
       "      <td>0.577652</td>\n",
       "      <td>0.668027</td>\n",
       "      <td>...</td>\n",
       "      <td>0.456105</td>\n",
       "      <td>0.348004</td>\n",
       "      <td>0.424245</td>\n",
       "      <td>0.321281</td>\n",
       "      <td>0.366134</td>\n",
       "      <td>0.427699</td>\n",
       "      <td>0.543543</td>\n",
       "      <td>0.302165</td>\n",
       "      <td>0.387312</td>\n",
       "      <td>0.317213</td>\n",
       "    </tr>\n",
       "    <tr>\n",
       "      <th>...</th>\n",
       "      <td>...</td>\n",
       "      <td>...</td>\n",
       "      <td>...</td>\n",
       "      <td>...</td>\n",
       "      <td>...</td>\n",
       "      <td>...</td>\n",
       "      <td>...</td>\n",
       "      <td>...</td>\n",
       "      <td>...</td>\n",
       "      <td>...</td>\n",
       "      <td>...</td>\n",
       "      <td>...</td>\n",
       "      <td>...</td>\n",
       "      <td>...</td>\n",
       "      <td>...</td>\n",
       "      <td>...</td>\n",
       "      <td>...</td>\n",
       "      <td>...</td>\n",
       "      <td>...</td>\n",
       "      <td>...</td>\n",
       "      <td>...</td>\n",
       "    </tr>\n",
       "    <tr>\n",
       "      <th>95</th>\n",
       "      <td>45.966536</td>\n",
       "      <td>1</td>\n",
       "      <td>1</td>\n",
       "      <td>0.555299</td>\n",
       "      <td>0.597638</td>\n",
       "      <td>0.553309</td>\n",
       "      <td>0.523025</td>\n",
       "      <td>0.525431</td>\n",
       "      <td>0.667517</td>\n",
       "      <td>0.502397</td>\n",
       "      <td>...</td>\n",
       "      <td>0.393523</td>\n",
       "      <td>0.211749</td>\n",
       "      <td>0.213663</td>\n",
       "      <td>-0.001180</td>\n",
       "      <td>0.240530</td>\n",
       "      <td>0.332062</td>\n",
       "      <td>0.225156</td>\n",
       "      <td>0.112255</td>\n",
       "      <td>0.197139</td>\n",
       "      <td>0.223078</td>\n",
       "    </tr>\n",
       "    <tr>\n",
       "      <th>96</th>\n",
       "      <td>48.160286</td>\n",
       "      <td>1</td>\n",
       "      <td>1</td>\n",
       "      <td>0.524961</td>\n",
       "      <td>0.631617</td>\n",
       "      <td>0.382947</td>\n",
       "      <td>0.410978</td>\n",
       "      <td>0.505315</td>\n",
       "      <td>0.611400</td>\n",
       "      <td>0.605452</td>\n",
       "      <td>...</td>\n",
       "      <td>0.297321</td>\n",
       "      <td>0.091223</td>\n",
       "      <td>-0.092743</td>\n",
       "      <td>-0.324001</td>\n",
       "      <td>0.105835</td>\n",
       "      <td>0.142054</td>\n",
       "      <td>0.217062</td>\n",
       "      <td>-0.058858</td>\n",
       "      <td>0.027726</td>\n",
       "      <td>-0.046267</td>\n",
       "    </tr>\n",
       "    <tr>\n",
       "      <th>97</th>\n",
       "      <td>32.339052</td>\n",
       "      <td>1</td>\n",
       "      <td>1</td>\n",
       "      <td>0.490657</td>\n",
       "      <td>0.652892</td>\n",
       "      <td>0.654747</td>\n",
       "      <td>0.656929</td>\n",
       "      <td>0.521088</td>\n",
       "      <td>0.702478</td>\n",
       "      <td>0.640216</td>\n",
       "      <td>...</td>\n",
       "      <td>0.738028</td>\n",
       "      <td>1.226778</td>\n",
       "      <td>1.160195</td>\n",
       "      <td>1.442043</td>\n",
       "      <td>0.947943</td>\n",
       "      <td>1.198746</td>\n",
       "      <td>1.053429</td>\n",
       "      <td>1.260295</td>\n",
       "      <td>1.092127</td>\n",
       "      <td>1.219025</td>\n",
       "    </tr>\n",
       "    <tr>\n",
       "      <th>98</th>\n",
       "      <td>33.315738</td>\n",
       "      <td>1</td>\n",
       "      <td>1</td>\n",
       "      <td>0.584763</td>\n",
       "      <td>0.602108</td>\n",
       "      <td>0.465685</td>\n",
       "      <td>0.602878</td>\n",
       "      <td>0.693304</td>\n",
       "      <td>0.707188</td>\n",
       "      <td>0.685981</td>\n",
       "      <td>...</td>\n",
       "      <td>0.802810</td>\n",
       "      <td>1.107206</td>\n",
       "      <td>0.910565</td>\n",
       "      <td>1.294152</td>\n",
       "      <td>1.069146</td>\n",
       "      <td>1.143846</td>\n",
       "      <td>1.049709</td>\n",
       "      <td>1.319581</td>\n",
       "      <td>1.093462</td>\n",
       "      <td>1.234739</td>\n",
       "    </tr>\n",
       "    <tr>\n",
       "      <th>99</th>\n",
       "      <td>32.630768</td>\n",
       "      <td>1</td>\n",
       "      <td>1</td>\n",
       "      <td>0.498238</td>\n",
       "      <td>0.661749</td>\n",
       "      <td>0.460143</td>\n",
       "      <td>0.661333</td>\n",
       "      <td>0.694017</td>\n",
       "      <td>0.742571</td>\n",
       "      <td>0.596009</td>\n",
       "      <td>...</td>\n",
       "      <td>0.736851</td>\n",
       "      <td>1.215089</td>\n",
       "      <td>0.947500</td>\n",
       "      <td>1.418419</td>\n",
       "      <td>1.105635</td>\n",
       "      <td>1.221035</td>\n",
       "      <td>0.994442</td>\n",
       "      <td>1.482475</td>\n",
       "      <td>1.008673</td>\n",
       "      <td>1.137563</td>\n",
       "    </tr>\n",
       "  </tbody>\n",
       "</table>\n",
       "<p>100 rows × 24 columns</p>\n",
       "</div>"
      ],
      "text/plain": [
       "          age  sex  diagnosis  Frontal_Sup  Frontal_Inf  Cingulum_Ant  \\\n",
       "0   43.368493    0          0     0.541704     0.553985      0.577727   \n",
       "1   36.654435    0          0     0.665915     0.477778      0.525422   \n",
       "2   37.998386    0          0     0.385500     0.535842      0.651637   \n",
       "3   36.640988    0          0     0.601210     0.500756      0.614601   \n",
       "4   42.878145    0          0     0.529871     0.521045      0.576609   \n",
       "..        ...  ...        ...          ...          ...           ...   \n",
       "95  45.966536    1          1     0.555299     0.597638      0.553309   \n",
       "96  48.160286    1          1     0.524961     0.631617      0.382947   \n",
       "97  32.339052    1          1     0.490657     0.652892      0.654747   \n",
       "98  33.315738    1          1     0.584763     0.602108      0.465685   \n",
       "99  32.630768    1          1     0.498238     0.661749      0.460143   \n",
       "\n",
       "    Cingulum_Post  Parietal_Sup  Parietal_Inf  Occipital_Sup  ...  \\\n",
       "0        0.502631      0.539654      0.562739       0.584094  ...   \n",
       "1        0.473192      0.589977      0.656130       0.677115  ...   \n",
       "2        0.556026      0.451074      0.602841       0.578349  ...   \n",
       "3        0.581634      0.489078      0.615674       0.579836  ...   \n",
       "4        0.557342      0.494459      0.577652       0.668027  ...   \n",
       "..            ...           ...           ...            ...  ...   \n",
       "95       0.523025      0.525431      0.667517       0.502397  ...   \n",
       "96       0.410978      0.505315      0.611400       0.605452  ...   \n",
       "97       0.656929      0.521088      0.702478       0.640216  ...   \n",
       "98       0.602878      0.693304      0.707188       0.685981  ...   \n",
       "99       0.661333      0.694017      0.742571       0.596009  ...   \n",
       "\n",
       "    Frontal_Sup_prime  Frontal_Inf_prime  Cingulum_Ant_prime  \\\n",
       "0            0.453216           0.346410            0.394954   \n",
       "1            0.779007           0.743069            0.759014   \n",
       "2            0.458242           0.706480            0.801886   \n",
       "3            0.714706           0.766994            0.849027   \n",
       "4            0.456105           0.348004            0.424245   \n",
       "..                ...                ...                 ...   \n",
       "95           0.393523           0.211749            0.213663   \n",
       "96           0.297321           0.091223           -0.092743   \n",
       "97           0.738028           1.226778            1.160195   \n",
       "98           0.802810           1.107206            0.910565   \n",
       "99           0.736851           1.215089            0.947500   \n",
       "\n",
       "    Cingulum_Post_prime  Parietal_Sup_prime  Parietal_Inf_prime  \\\n",
       "0              0.219458            0.385718            0.382858   \n",
       "1              0.835101            0.786714            0.886027   \n",
       "2              0.788809            0.577617            0.750712   \n",
       "3              0.944835            0.686517            0.846391   \n",
       "4              0.321281            0.366134            0.427699   \n",
       "..                  ...                 ...                 ...   \n",
       "95            -0.001180            0.240530            0.332062   \n",
       "96            -0.324001            0.105835            0.142054   \n",
       "97             1.442043            0.947943            1.198746   \n",
       "98             1.294152            1.069146            1.143846   \n",
       "99             1.418419            1.105635            1.221035   \n",
       "\n",
       "    Occipital_Sup_prime  Occipital_Inf_prime  Temporal_Sup_prime  \\\n",
       "0              0.434766             0.394109            0.368090   \n",
       "1              0.867963             0.906564            0.636818   \n",
       "2              0.701104             0.841803            0.644425   \n",
       "3              0.771366             0.884553            0.707028   \n",
       "4              0.543543             0.302165            0.387312   \n",
       "..                  ...                  ...                 ...   \n",
       "95             0.225156             0.112255            0.197139   \n",
       "96             0.217062            -0.058858            0.027726   \n",
       "97             1.053429             1.260295            1.092127   \n",
       "98             1.049709             1.319581            1.093462   \n",
       "99             0.994442             1.482475            1.008673   \n",
       "\n",
       "    Temporal_Inf_prime  \n",
       "0             0.298147  \n",
       "1             0.785023  \n",
       "2             0.715443  \n",
       "3             0.899498  \n",
       "4             0.317213  \n",
       "..                 ...  \n",
       "95            0.223078  \n",
       "96           -0.046267  \n",
       "97            1.219025  \n",
       "98            1.234739  \n",
       "99            1.137563  \n",
       "\n",
       "[100 rows x 24 columns]"
      ]
     },
     "execution_count": 4,
     "metadata": {},
     "output_type": "execute_result"
    }
   ],
   "source": [
    "res_df"
   ]
  },
  {
   "cell_type": "code",
   "execution_count": 5,
   "id": "7ee5279e",
   "metadata": {},
   "outputs": [],
   "source": [
    "def two_sample_t_test_p(x,y):\n",
    "    mx = statistics.mean(x)\n",
    "    my = statistics.mean(y)\n",
    "    vx =statistics.variance(x)\n",
    "    vy =statistics.variance(y)\n",
    "    s = math.sqrt(((len(x)-1)*vx+(len(y)-1)*vy)/(len(x)+len(y)-2))\n",
    "\n",
    "    t = (mx-my)/(s*math.sqrt(1/len(y)+1/len(x)))\n",
    "    \n",
    "    p = stats.t.sf(np.abs(t), (len(x)+len(y)-2))*2\n",
    "    return p"
   ]
  },
  {
   "cell_type": "code",
   "execution_count": 6,
   "id": "a934dfe8",
   "metadata": {},
   "outputs": [
    {
     "name": "stdout",
     "output_type": "stream",
     "text": [
      "0.08031716997740464\n"
     ]
    }
   ],
   "source": [
    "print(two_sample_t_test_p([590,748,579,544,570,598,599,673,635,714,580,565],[570,535,606,572,568,600,554,575]))\n"
   ]
  },
  {
   "cell_type": "markdown",
   "id": "5f6ad045",
   "metadata": {},
   "source": [
    "### Problem 1: Plot all box plots on all regional biomarkers w/ disease against control"
   ]
  },
  {
   "cell_type": "code",
   "execution_count": 7,
   "id": "83d9a534",
   "metadata": {},
   "outputs": [
    {
     "name": "stdout",
     "output_type": "stream",
     "text": [
      "Control vs. Disease for Frontal_Sup_prime\n",
      "Control mean is: 0.5619888410707109\n",
      "Disease mean is: 0.5556161871361944\n",
      "Control stdev is: 0.15959513483655838\n",
      "Disease stdev is: 0.2377036370572409\n",
      "P_val is: 0.8752638443979813\n",
      "Not significant\n"
     ]
    },
    {
     "data": {
      "image/png": "[encoded data removed]",
      "text/plain": [
       "<Figure size 432x288 with 1 Axes>"
      ]
     },
     "metadata": {
      "needs_background": "light"
     },
     "output_type": "display_data"
    },
    {
     "name": "stdout",
     "output_type": "stream",
     "text": [
      "Control vs. Disease for Frontal_Inf_prime\n",
      "Control mean is: 0.5247460773650063\n",
      "Disease mean is: 0.5601112197729532\n",
      "Control stdev is: 0.3090261705183702\n",
      "Disease stdev is: 0.4904743272396929\n",
      "P_val is: 0.6671463700155837\n",
      "Not significant\n"
     ]
    },
    {
     "data": {
      "image/png": "[encoded data removed]",
      "text/plain": [
       "<Figure size 432x288 with 1 Axes>"
      ]
     },
     "metadata": {
      "needs_background": "light"
     },
     "output_type": "display_data"
    },
    {
     "name": "stdout",
     "output_type": "stream",
     "text": [
      "Control vs. Disease for Cingulum_Ant_prime\n",
      "Control mean is: 0.591420747623431\n",
      "Disease mean is: 0.5577186345626346\n",
      "Control stdev is: 0.2700110127696873\n",
      "Disease stdev is: 0.43969414194205175\n",
      "P_val is: 0.6452071323354321\n",
      "Not significant\n"
     ]
    },
    {
     "data": {
      "image/png": "[encoded data removed]",
      "text/plain": [
       "<Figure size 432x288 with 1 Axes>"
      ]
     },
     "metadata": {
      "needs_background": "light"
     },
     "output_type": "display_data"
    },
    {
     "name": "stdout",
     "output_type": "stream",
     "text": [
      "Control vs. Disease for Cingulum_Post_prime\n",
      "Control mean is: 0.5145424877271071\n",
      "Disease mean is: 0.5292159440549657\n",
      "Control stdev is: 0.41995222647917735\n",
      "Disease stdev is: 0.6853942240772456\n",
      "P_val is: 0.8975588577368899\n",
      "Not significant\n"
     ]
    },
    {
     "data": {
      "image/png": "[encoded data removed]",
      "text/plain": [
       "<Figure size 432x288 with 1 Axes>"
      ]
     },
     "metadata": {
      "needs_background": "light"
     },
     "output_type": "display_data"
    },
    {
     "name": "stdout",
     "output_type": "stream",
     "text": [
      "Control vs. Disease for Parietal_Sup_prime\n",
      "Control mean is: 0.5466254166120837\n",
      "Disease mean is: 0.5925630402249047\n",
      "Control stdev is: 0.23488567250266432\n",
      "Disease stdev is: 0.3730047426122284\n",
      "P_val is: 0.46293926043655853\n",
      "Not significant\n"
     ]
    },
    {
     "data": {
      "image/png": "[encoded data removed]",
      "text/plain": [
       "<Figure size 432x288 with 1 Axes>"
      ]
     },
     "metadata": {
      "needs_background": "light"
     },
     "output_type": "display_data"
    },
    {
     "name": "stdout",
     "output_type": "stream",
     "text": [
      "Control vs. Disease for Parietal_Inf_prime\n",
      "Control mean is: 0.6002626393297957\n",
      "Disease mean is: 0.6207906911210325\n",
      "Control stdev is: 0.2622037378215212\n",
      "Disease stdev is: 0.4212398069544932\n",
      "P_val is: 0.7704876588085536\n",
      "Not significant\n"
     ]
    },
    {
     "data": {
      "image/png": "[encoded data removed]",
      "text/plain": [
       "<Figure size 432x288 with 1 Axes>"
      ]
     },
     "metadata": {
      "needs_background": "light"
     },
     "output_type": "display_data"
    },
    {
     "name": "stdout",
     "output_type": "stream",
     "text": [
      "Control vs. Disease for Occipital_Sup_prime\n",
      "Control mean is: 0.5949613253700009\n",
      "Disease mean is: 0.5895980530867927\n",
      "Control stdev is: 0.2214267854335523\n",
      "Disease stdev is: 0.3622422319214298\n",
      "P_val is: 0.9290050955402812\n",
      "Not significant\n"
     ]
    },
    {
     "data": {
      "image/png": "[encoded data removed]",
      "text/plain": [
       "<Figure size 432x288 with 1 Axes>"
      ]
     },
     "metadata": {
      "needs_background": "light"
     },
     "output_type": "display_data"
    },
    {
     "name": "stdout",
     "output_type": "stream",
     "text": [
      "Control vs. Disease for Occipital_Inf_prime\n",
      "Control mean is: 0.5508997273984434\n",
      "Disease mean is: 0.5875090626749826\n",
      "Control stdev is: 0.376693766076822\n",
      "Disease stdev is: 0.6061505059417218\n",
      "P_val is: 0.7175880710793237\n",
      "Not significant\n"
     ]
    },
    {
     "data": {
      "image/png": "[encoded data removed]",
      "text/plain": [
       "<Figure size 432x288 with 1 Axes>"
      ]
     },
     "metadata": {
      "needs_background": "light"
     },
     "output_type": "display_data"
    },
    {
     "name": "stdout",
     "output_type": "stream",
     "text": [
      "Control vs. Disease for Temporal_Sup_prime\n",
      "Control mean is: 0.5044997859295233\n",
      "Disease mean is: 0.5479326848692226\n",
      "Control stdev is: 0.24283552464276573\n",
      "Disease stdev is: 0.4087882891482062\n",
      "P_val is: 0.5198437409657979\n",
      "Not significant\n"
     ]
    },
    {
     "data": {
      "image/png": "[encoded data removed]",
      "text/plain": [
       "<Figure size 432x288 with 1 Axes>"
      ]
     },
     "metadata": {
      "needs_background": "light"
     },
     "output_type": "display_data"
    },
    {
     "name": "stdout",
     "output_type": "stream",
     "text": [
      "Control vs. Disease for Temporal_Inf_prime\n",
      "Control mean is: 0.5281521663134454\n",
      "Disease mean is: 0.5754346400182754\n",
      "Control stdev is: 0.34965138110756805\n",
      "Disease stdev is: 0.5287785963603923\n",
      "P_val is: 0.5991026833695063\n",
      "Not significant\n"
     ]
    },
    {
     "data": {
      "image/png": "[encoded data removed]",
      "text/plain": [
       "<Figure size 432x288 with 1 Axes>"
      ]
     },
     "metadata": {
      "needs_background": "light"
     },
     "output_type": "display_data"
    }
   ],
   "source": [
    "residualized_biomarkers = list(res_df.columns)[-10:]\n",
    "control_df = res_df[res_df['diagnosis'] == 0]\n",
    "disease_df = res_df[res_df['diagnosis'] == 1]\n",
    "sig_lst = [] \n",
    "\n",
    "for i in residualized_biomarkers:\n",
    "    print(\"Control vs. Disease for \"+ i)\n",
    "    print(\"Control mean is: \" + str(statistics.mean(control_df[i])))\n",
    "    print(\"Disease mean is: \" + str(statistics.mean(disease_df[i])))\n",
    "    print(\"Control stdev is: \" + str(statistics.stdev(control_df[i])))\n",
    "    print(\"Disease stdev is: \" + str(statistics.stdev(disease_df[i])))\n",
    "    p_val = two_sample_t_test_p(control_df[i],disease_df[i])\n",
    "    print(\"P_val is: \" + str(p_val))\n",
    "    if p_val > 0.05:\n",
    "        print('Not significant')\n",
    "    else:\n",
    "        print(\"Significant\")\n",
    "        sig_lst.append(i)\n",
    "    plt.figure()\n",
    "    ax = sns.boxplot(data=[control_df[i], disease_df[i]])\n",
    "    ax.set_xticklabels(['Control','Disease'])\n",
    "    plt.show()\n"
   ]
  },
  {
   "cell_type": "markdown",
   "id": "79ae14e4",
   "metadata": {},
   "source": [
    "Analysis: There seems to be not significant unusual values in the regional biomarkers compared to the control group after residualizing data for sex and age as seen from t_test. However disease seems to have a much greater range and stdev in general compared to control"
   ]
  },
  {
   "cell_type": "markdown",
   "id": "a23a9d6a",
   "metadata": {},
   "source": [
    "### Problem 2: "
   ]
  },
  {
   "cell_type": "markdown",
   "id": "8b95231c",
   "metadata": {},
   "source": [
    "#### Original Approach, removing \"sex\" from residualization"
   ]
  },
  {
   "cell_type": "code",
   "execution_count": 8,
   "id": "f81d8db2",
   "metadata": {},
   "outputs": [
    {
     "name": "stdout",
     "output_type": "stream",
     "text": [
      "                 Generalized Linear Model Regression Results                  \n",
      "==============================================================================\n",
      "Dep. Variable:            Frontal_Sup   No. Observations:                  100\n",
      "Model:                            GLM   Df Residuals:                       98\n",
      "Model Family:                Gaussian   Df Model:                            1\n",
      "Link Function:               identity   Scale:                       0.0061548\n",
      "Method:                          IRLS   Log-Likelihood:                 113.64\n",
      "Date:                Wed, 25 Oct 2023   Deviance:                      0.60317\n",
      "Time:                        01:13:08   Pearson chi2:                    0.603\n",
      "No. Iterations:                     3                                         \n",
      "Covariance Type:            nonrobust                                         \n",
      "==============================================================================\n",
      "                 coef    std err          z      P>|z|      [0.025      0.975]\n",
      "------------------------------------------------------------------------------\n",
      "Intercept      0.7460      0.060     12.403      0.000       0.628       0.864\n",
      "age           -0.0047      0.001     -3.178      0.001      -0.008      -0.002\n",
      "==============================================================================\n",
      "                 Generalized Linear Model Regression Results                  \n",
      "==============================================================================\n",
      "Dep. Variable:            Frontal_Inf   No. Observations:                  100\n",
      "Model:                            GLM   Df Residuals:                       98\n",
      "Model Family:                Gaussian   Df Model:                            1\n",
      "Link Function:               identity   Scale:                       0.0057326\n",
      "Method:                          IRLS   Log-Likelihood:                 117.20\n",
      "Date:                Wed, 25 Oct 2023   Deviance:                      0.56180\n",
      "Time:                        01:13:08   Pearson chi2:                    0.562\n",
      "No. Iterations:                     3                                         \n",
      "Covariance Type:            nonrobust                                         \n",
      "==============================================================================\n",
      "                 coef    std err          z      P>|z|      [0.025      0.975]\n",
      "------------------------------------------------------------------------------\n",
      "Intercept      0.7261      0.058     12.509      0.000       0.612       0.840\n",
      "age           -0.0046      0.001     -3.232      0.001      -0.007      -0.002\n",
      "==============================================================================\n",
      "                 Generalized Linear Model Regression Results                  \n",
      "==============================================================================\n",
      "Dep. Variable:           Cingulum_Ant   No. Observations:                  100\n",
      "Model:                            GLM   Df Residuals:                       98\n",
      "Model Family:                Gaussian   Df Model:                            1\n",
      "Link Function:               identity   Scale:                       0.0068135\n",
      "Method:                          IRLS   Log-Likelihood:                 108.56\n",
      "Date:                Wed, 25 Oct 2023   Deviance:                      0.66772\n",
      "Time:                        01:13:08   Pearson chi2:                    0.668\n",
      "No. Iterations:                     3                                         \n",
      "Covariance Type:            nonrobust                                         \n",
      "==============================================================================\n",
      "                 coef    std err          z      P>|z|      [0.025      0.975]\n",
      "------------------------------------------------------------------------------\n",
      "Intercept      0.7417      0.063     11.720      0.000       0.618       0.866\n",
      "age           -0.0042      0.002     -2.697      0.007      -0.007      -0.001\n",
      "==============================================================================\n",
      "                 Generalized Linear Model Regression Results                  \n",
      "==============================================================================\n",
      "Dep. Variable:          Cingulum_Post   No. Observations:                  100\n",
      "Model:                            GLM   Df Residuals:                       98\n",
      "Model Family:                Gaussian   Df Model:                            1\n",
      "Link Function:               identity   Scale:                       0.0071065\n",
      "Method:                          IRLS   Log-Likelihood:                 106.45\n",
      "Date:                Wed, 25 Oct 2023   Deviance:                      0.69643\n",
      "Time:                        01:13:08   Pearson chi2:                    0.696\n",
      "No. Iterations:                     3                                         \n",
      "Covariance Type:            nonrobust                                         \n",
      "==============================================================================\n",
      "                 coef    std err          z      P>|z|      [0.025      0.975]\n",
      "------------------------------------------------------------------------------\n",
      "Intercept      0.8612      0.065     13.325      0.000       0.734       0.988\n",
      "age           -0.0085      0.002     -5.362      0.000      -0.012      -0.005\n",
      "==============================================================================\n",
      "                 Generalized Linear Model Regression Results                  \n",
      "==============================================================================\n",
      "Dep. Variable:           Parietal_Sup   No. Observations:                  100\n",
      "Model:                            GLM   Df Residuals:                       98\n",
      "Model Family:                Gaussian   Df Model:                            1\n",
      "Link Function:               identity   Scale:                       0.0041057\n",
      "Method:                          IRLS   Log-Likelihood:                 133.89\n",
      "Date:                Wed, 25 Oct 2023   Deviance:                      0.40236\n",
      "Time:                        01:13:08   Pearson chi2:                    0.402\n",
      "No. Iterations:                     3                                         \n",
      "Covariance Type:            nonrobust                                         \n",
      "==============================================================================\n",
      "                 coef    std err          z      P>|z|      [0.025      0.975]\n",
      "------------------------------------------------------------------------------\n",
      "Intercept      0.7564      0.049     15.399      0.000       0.660       0.853\n",
      "age           -0.0047      0.001     -3.885      0.000      -0.007      -0.002\n",
      "==============================================================================\n",
      "                 Generalized Linear Model Regression Results                  \n",
      "==============================================================================\n",
      "Dep. Variable:           Parietal_Inf   No. Observations:                  100\n",
      "Model:                            GLM   Df Residuals:                       98\n",
      "Model Family:                Gaussian   Df Model:                            1\n",
      "Link Function:               identity   Scale:                       0.0050244\n",
      "Method:                          IRLS   Log-Likelihood:                 123.79\n",
      "Date:                Wed, 25 Oct 2023   Deviance:                      0.49239\n",
      "Time:                        01:13:08   Pearson chi2:                    0.492\n",
      "No. Iterations:                     3                                         \n",
      "Covariance Type:            nonrobust                                         \n",
      "==============================================================================\n",
      "                 coef    std err          z      P>|z|      [0.025      0.975]\n",
      "------------------------------------------------------------------------------\n",
      "Intercept      0.7278      0.054     13.393      0.000       0.621       0.834\n",
      "age           -0.0029      0.001     -2.204      0.028      -0.006      -0.000\n",
      "==============================================================================\n",
      "                 Generalized Linear Model Regression Results                  \n",
      "==============================================================================\n",
      "Dep. Variable:          Occipital_Sup   No. Observations:                  100\n",
      "Model:                            GLM   Df Residuals:                       98\n",
      "Model Family:                Gaussian   Df Model:                            1\n",
      "Link Function:               identity   Scale:                       0.0048248\n",
      "Method:                          IRLS   Log-Likelihood:                 125.82\n",
      "Date:                Wed, 25 Oct 2023   Deviance:                      0.47283\n",
      "Time:                        01:13:08   Pearson chi2:                    0.473\n",
      "No. Iterations:                     3                                         \n",
      "Covariance Type:            nonrobust                                         \n",
      "==============================================================================\n",
      "                 coef    std err          z      P>|z|      [0.025      0.975]\n",
      "------------------------------------------------------------------------------\n",
      "Intercept      0.7390      0.053     13.877      0.000       0.635       0.843\n",
      "age           -0.0037      0.001     -2.814      0.005      -0.006      -0.001\n",
      "==============================================================================\n",
      "                 Generalized Linear Model Regression Results                  \n",
      "==============================================================================\n",
      "Dep. Variable:          Occipital_Inf   No. Observations:                  100\n",
      "Model:                            GLM   Df Residuals:                       98\n",
      "Model Family:                Gaussian   Df Model:                            1\n",
      "Link Function:               identity   Scale:                       0.0065919\n",
      "Method:                          IRLS   Log-Likelihood:                 110.21\n",
      "Date:                Wed, 25 Oct 2023   Deviance:                      0.64601\n",
      "Time:                        01:13:08   Pearson chi2:                    0.646\n",
      "No. Iterations:                     3                                         \n",
      "Covariance Type:            nonrobust                                         \n",
      "==============================================================================\n",
      "                 coef    std err          z      P>|z|      [0.025      0.975]\n",
      "------------------------------------------------------------------------------\n",
      "Intercept      0.7201      0.062     11.568      0.000       0.598       0.842\n",
      "age           -0.0038      0.002     -2.476      0.013      -0.007      -0.001\n",
      "==============================================================================\n",
      "                 Generalized Linear Model Regression Results                  \n",
      "==============================================================================\n",
      "Dep. Variable:           Temporal_Sup   No. Observations:                  100\n",
      "Model:                            GLM   Df Residuals:                       98\n",
      "Model Family:                Gaussian   Df Model:                            1\n",
      "Link Function:               identity   Scale:                       0.0049418\n",
      "Method:                          IRLS   Log-Likelihood:                 124.62\n",
      "Date:                Wed, 25 Oct 2023   Deviance:                      0.48430\n",
      "Time:                        01:13:08   Pearson chi2:                    0.484\n",
      "No. Iterations:                     3                                         \n",
      "Covariance Type:            nonrobust                                         \n",
      "==============================================================================\n",
      "                 coef    std err          z      P>|z|      [0.025      0.975]\n",
      "------------------------------------------------------------------------------\n",
      "Intercept      0.7860      0.054     14.584      0.000       0.680       0.892\n",
      "age           -0.0065      0.001     -4.922      0.000      -0.009      -0.004\n",
      "==============================================================================\n",
      "                 Generalized Linear Model Regression Results                  \n",
      "==============================================================================\n",
      "Dep. Variable:           Temporal_Inf   No. Observations:                  100\n",
      "Model:                            GLM   Df Residuals:                       98\n",
      "Model Family:                Gaussian   Df Model:                            1\n",
      "Link Function:               identity   Scale:                       0.0060469\n",
      "Method:                          IRLS   Log-Likelihood:                 114.53\n",
      "Date:                Wed, 25 Oct 2023   Deviance:                      0.59260\n",
      "Time:                        01:13:08   Pearson chi2:                    0.593\n",
      "No. Iterations:                     3                                         \n",
      "Covariance Type:            nonrobust                                         \n",
      "==============================================================================\n",
      "                 coef    std err          z      P>|z|      [0.025      0.975]\n",
      "------------------------------------------------------------------------------\n",
      "Intercept      0.8041      0.060     13.489      0.000       0.687       0.921\n",
      "age           -0.0063      0.001     -4.324      0.000      -0.009      -0.003\n",
      "==============================================================================\n",
      "Residualization complete!\n"
     ]
    }
   ],
   "source": [
    "for feature in biomarkers:\n",
    "    # endog --> the variable we want to model\n",
    "    endog = res_df[feature]\n",
    "    \n",
    "    # Intercept/constant --> the mean value of the response variable when all predictor variables \n",
    "    # in the model are equal to zero\n",
    "    res_df[\"Intercept\"] = 1\n",
    "    \n",
    "    # exog --> the covariates alias explanatory variables\n",
    "    exog = res_df[[\"Intercept\", \"age\"]]\n",
    "    \n",
    "    # Generalized linear model\n",
    "    md = sm.GLM(endog, exog, family=sm.families.Gaussian())\n",
    "\n",
    "    # Fit the regression model\n",
    "    md = md.fit()\n",
    "    print(md.summary())\n",
    "    # Save the \n",
    "    feature_name = feature + '_prime2'\n",
    "\n",
    "    # Calculate residual variables that end in 'prime'\n",
    "    res_df[feature_name] = res_df[feature] - (md.params[1] * (res_df[\"age\"] - mean_age))\n",
    "\n",
    "print('Residualization complete!')"
   ]
  },
  {
   "cell_type": "code",
   "execution_count": 9,
   "id": "410dcee4",
   "metadata": {},
   "outputs": [
    {
     "name": "stdout",
     "output_type": "stream",
     "text": [
      "Sex0 vs. Sex1 for Frontal_Sup_prime2\n",
      "Sex0 mean is: 0.5181081719094535\n",
      "Sex1 mean is: 0.5694579392034268\n",
      "Sex0 stdev is: 0.06869182877368601\n",
      "Sex1 stdev is: 0.07257540255736371\n",
      "P_val is: 0.01335240711522077\n",
      "Significant\n"
     ]
    },
    {
     "data": {
      "text/plain": [
       "<Figure size 432x288 with 0 Axes>"
      ]
     },
     "metadata": {},
     "output_type": "display_data"
    },
    {
     "data": {
      "image/png": "[encoded data removed]",
      "text/plain": [
       "<Figure size 432x288 with 1 Axes>"
      ]
     },
     "metadata": {
      "needs_background": "light"
     },
     "output_type": "display_data"
    },
    {
     "name": "stdout",
     "output_type": "stream",
     "text": [
      "Sex0 vs. Sex1 for Frontal_Inf_prime2\n",
      "Sex0 mean is: 0.4883992639292642\n",
      "Sex1 mean is: 0.5861966116508185\n",
      "Sex0 stdev is: 0.05916292133612549\n",
      "Sex1 stdev is: 0.047764503819430336\n",
      "P_val is: 5.49027814347704e-08\n",
      "Significant\n"
     ]
    },
    {
     "data": {
      "text/plain": [
       "<Figure size 432x288 with 0 Axes>"
      ]
     },
     "metadata": {},
     "output_type": "display_data"
    },
    {
     "data": {
      "image/png": "[encoded data removed]",
      "text/plain": [
       "<Figure size 432x288 with 1 Axes>"
      ]
     },
     "metadata": {
      "needs_background": "light"
     },
     "output_type": "display_data"
    },
    {
     "name": "stdout",
     "output_type": "stream",
     "text": [
      "Sex0 vs. Sex1 for Cingulum_Ant_prime2\n",
      "Sex0 mean is: 0.5079104249444628\n",
      "Sex1 mean is: 0.5671444051177021\n",
      "Sex0 stdev is: 0.06246945656995201\n",
      "Sex1 stdev is: 0.07861149800756717\n",
      "P_val is: 0.0049055250288104054\n",
      "Significant\n"
     ]
    },
    {
     "data": {
      "text/plain": [
       "<Figure size 432x288 with 0 Axes>"
      ]
     },
     "metadata": {},
     "output_type": "display_data"
    },
    {
     "data": {
      "image/png": "[encoded data removed]",
      "text/plain": [
       "<Figure size 432x288 with 1 Axes>"
      ]
     },
     "metadata": {
      "needs_background": "light"
     },
     "output_type": "display_data"
    },
    {
     "name": "stdout",
     "output_type": "stream",
     "text": [
      "Sex0 vs. Sex1 for Cingulum_Post_prime2\n",
      "Sex0 mean is: 0.4272904805217367\n",
      "Sex1 mean is: 0.56546246765314\n",
      "Sex0 stdev is: 0.06981550774367454\n",
      "Sex1 stdev is: 0.07127480025089669\n",
      "P_val is: 9.601080654200663e-09\n",
      "Significant\n"
     ]
    },
    {
     "data": {
      "text/plain": [
       "<Figure size 432x288 with 0 Axes>"
      ]
     },
     "metadata": {},
     "output_type": "display_data"
    },
    {
     "data": {
      "image/png": "[encoded data removed]",
      "text/plain": [
       "<Figure size 432x288 with 1 Axes>"
      ]
     },
     "metadata": {
      "needs_background": "light"
     },
     "output_type": "display_data"
    },
    {
     "name": "stdout",
     "output_type": "stream",
     "text": [
      "Sex0 vs. Sex1 for Parietal_Sup_prime2\n",
      "Sex0 mean is: 0.5490773599985489\n",
      "Sex1 mean is: 0.6002515692419793\n",
      "Sex0 stdev is: 0.0693550330145186\n",
      "Sex1 stdev is: 0.051292026034567305\n",
      "P_val is: 0.004687193190718695\n",
      "Significant\n"
     ]
    },
    {
     "data": {
      "text/plain": [
       "<Figure size 432x288 with 0 Axes>"
      ]
     },
     "metadata": {},
     "output_type": "display_data"
    },
    {
     "data": {
      "image/png": "[encoded data removed]",
      "text/plain": [
       "<Figure size 432x288 with 1 Axes>"
      ]
     },
     "metadata": {
      "needs_background": "light"
     },
     "output_type": "display_data"
    },
    {
     "name": "stdout",
     "output_type": "stream",
     "text": [
      "Sex0 vs. Sex1 for Parietal_Inf_prime2\n",
      "Sex0 mean is: 0.5786588645098718\n",
      "Sex1 mean is: 0.6250067885341515\n",
      "Sex0 stdev is: 0.057853030445973855\n",
      "Sex1 stdev is: 0.05567677304573008\n",
      "P_val is: 0.005827659630274539\n",
      "Significant\n"
     ]
    },
    {
     "data": {
      "text/plain": [
       "<Figure size 432x288 with 0 Axes>"
      ]
     },
     "metadata": {},
     "output_type": "display_data"
    },
    {
     "data": {
      "image/png": "[encoded data removed]",
      "text/plain": [
       "<Figure size 432x288 with 1 Axes>"
      ]
     },
     "metadata": {
      "needs_background": "light"
     },
     "output_type": "display_data"
    },
    {
     "name": "stdout",
     "output_type": "stream",
     "text": [
      "Sex0 vs. Sex1 for Occipital_Sup_prime2\n",
      "Sex0 mean is: 0.5359957080217324\n",
      "Sex1 mean is: 0.6098134323343652\n",
      "Sex0 stdev is: 0.059580099164080344\n",
      "Sex1 stdev is: 0.05077950684862003\n",
      "P_val is: 2.114175786982855e-05\n",
      "Significant\n"
     ]
    },
    {
     "data": {
      "text/plain": [
       "<Figure size 432x288 with 0 Axes>"
      ]
     },
     "metadata": {},
     "output_type": "display_data"
    },
    {
     "data": {
      "image/png": "[encoded data removed]",
      "text/plain": [
       "<Figure size 432x288 with 1 Axes>"
      ]
     },
     "metadata": {
      "needs_background": "light"
     },
     "output_type": "display_data"
    },
    {
     "name": "stdout",
     "output_type": "stream",
     "text": [
      "Sex0 vs. Sex1 for Occipital_Inf_prime2\n",
      "Sex0 mean is: 0.5040021151733223\n",
      "Sex1 mean is: 0.616522112657513\n",
      "Sex0 stdev is: 0.06719121413852015\n",
      "Sex1 stdev is: 0.0763908179445934\n",
      "P_val is: 1.2984956521053326e-06\n",
      "Significant\n"
     ]
    },
    {
     "data": {
      "text/plain": [
       "<Figure size 432x288 with 0 Axes>"
      ]
     },
     "metadata": {},
     "output_type": "display_data"
    },
    {
     "data": {
      "image/png": "[encoded data removed]",
      "text/plain": [
       "<Figure size 432x288 with 1 Axes>"
      ]
     },
     "metadata": {
      "needs_background": "light"
     },
     "output_type": "display_data"
    },
    {
     "name": "stdout",
     "output_type": "stream",
     "text": [
      "Sex0 vs. Sex1 for Temporal_Sup_prime2\n",
      "Sex0 mean is: 0.5008835863544251\n",
      "Sex1 mean is: 0.5549658011783596\n",
      "Sex0 stdev is: 0.06620091170942727\n",
      "Sex1 stdev is: 0.08357836602642225\n",
      "P_val is: 0.014514502741325121\n",
      "Significant\n"
     ]
    },
    {
     "data": {
      "text/plain": [
       "<Figure size 432x288 with 0 Axes>"
      ]
     },
     "metadata": {},
     "output_type": "display_data"
    },
    {
     "data": {
      "image/png": "[encoded data removed]",
      "text/plain": [
       "<Figure size 432x288 with 1 Axes>"
      ]
     },
     "metadata": {
      "needs_background": "light"
     },
     "output_type": "display_data"
    },
    {
     "name": "stdout",
     "output_type": "stream",
     "text": [
      "Sex0 vs. Sex1 for Temporal_Inf_prime2\n",
      "Sex0 mean is: 0.5134480340782454\n",
      "Sex1 mean is: 0.5861289018900875\n",
      "Sex0 stdev is: 0.06099796781238063\n",
      "Sex1 stdev is: 0.08670600378212372\n",
      "P_val is: 0.001257331032026281\n",
      "Significant\n"
     ]
    },
    {
     "data": {
      "text/plain": [
       "<Figure size 432x288 with 0 Axes>"
      ]
     },
     "metadata": {},
     "output_type": "display_data"
    },
    {
     "data": {
      "image/png": "[encoded data removed]",
      "text/plain": [
       "<Figure size 432x288 with 1 Axes>"
      ]
     },
     "metadata": {
      "needs_background": "light"
     },
     "output_type": "display_data"
    },
    {
     "name": "stdout",
     "output_type": "stream",
     "text": [
      "['Frontal_Sup_prime2', 'Frontal_Inf_prime2', 'Cingulum_Ant_prime2', 'Cingulum_Post_prime2', 'Parietal_Sup_prime2', 'Parietal_Inf_prime2', 'Occipital_Sup_prime2', 'Occipital_Inf_prime2', 'Temporal_Sup_prime2', 'Temporal_Inf_prime2']\n"
     ]
    }
   ],
   "source": [
    "no_sex_residualized_biomarkers = list(res_df.columns)[-10:]\n",
    "disease_df = res_df[res_df['diagnosis'] == 1]\n",
    "sex0_df = disease_df[disease_df['sex'] == 0]\n",
    "sex1_df = disease_df[disease_df['sex'] == 1]\n",
    "sig_lst = []\n",
    "\n",
    "for i in no_sex_residualized_biomarkers :\n",
    "    print(\"Sex0 vs. Sex1 for \"+ i)\n",
    "    print(\"Sex0 mean is: \" + str(statistics.mean(sex0_df[i])))\n",
    "    print(\"Sex1 mean is: \" + str(statistics.mean(sex1_df[i])))\n",
    "    print(\"Sex0 stdev is: \" + str(statistics.stdev(sex0_df[i])))\n",
    "    print(\"Sex1 stdev is: \" + str(statistics.stdev(sex1_df[i])))\n",
    "    p_val = two_sample_t_test_p(sex0_df[i],sex1_df[i])\n",
    "    print(\"P_val is: \" + str(p_val))\n",
    "    if p_val > 0.05:\n",
    "        print('Not significant')\n",
    "    else:\n",
    "        print(\"Significant\")\n",
    "        sig_lst.append(i)\n",
    "    plt.figure()\n",
    "    plt.figure()\n",
    "    ax = sns.boxplot(data=[sex0_df[i], sex1_df[i]])\n",
    "    plt.show()\n",
    "print(sig_lst)"
   ]
  },
  {
   "cell_type": "markdown",
   "id": "26aa829d",
   "metadata": {},
   "source": [
    "Analysis: There seems to be significant unusual values in the regional biomarkers comparing two sex groups after residualizing data for age as seen from t_test at Frontal_Inf, Cingulum_Ant, Cingulum_Post, Parietal_Sup, Parietal_Inf, Occipital_Sup,Occipital_Inf, Temporal_Sup, Temporal_Inf."
   ]
  },
  {
   "cell_type": "markdown",
   "id": "708dd42b",
   "metadata": {},
   "source": [
    "#### New Approach, added after deadline. Keep sex and age in residualization, only evaluate difference in disease on biomarkers for a sex at a time and compare differences"
   ]
  },
  {
   "cell_type": "code",
   "execution_count": 10,
   "id": "8cdf27c2",
   "metadata": {},
   "outputs": [
    {
     "name": "stdout",
     "output_type": "stream",
     "text": [
      "Control vs. Disease for Frontal_Sup_prime\n",
      "Control mean is: 0.5917102837250833\n",
      "Disease mean is: 0.4946706663101022\n",
      "Control stdev is: 0.1704785614352445\n",
      "Disease stdev is: 0.24350778696852837\n",
      "P_val is: 0.10916535520261339\n",
      "Not significant\n"
     ]
    },
    {
     "data": {
      "image/png": "[encoded data removed]",
      "text/plain": [
       "<Figure size 432x288 with 1 Axes>"
      ]
     },
     "metadata": {
      "needs_background": "light"
     },
     "output_type": "display_data"
    },
    {
     "name": "stdout",
     "output_type": "stream",
     "text": [
      "Control vs. Disease for Frontal_Inf_prime\n",
      "Control mean is: 0.5796228717394188\n",
      "Disease mean is: 0.43773898608952716\n",
      "Control stdev is: 0.3340407773717582\n",
      "Disease stdev is: 0.5120998144647488\n",
      "P_val is: 0.2516696188196577\n",
      "Not significant\n"
     ]
    },
    {
     "data": {
      "image/png": "[encoded data removed]",
      "text/plain": [
       "<Figure size 432x288 with 1 Axes>"
      ]
     },
     "metadata": {
      "needs_background": "light"
     },
     "output_type": "display_data"
    },
    {
     "name": "stdout",
     "output_type": "stream",
     "text": [
      "Control vs. Disease for Cingulum_Ant_prime\n",
      "Control mean is: 0.6263753393680082\n",
      "Disease mean is: 0.46321269246201907\n",
      "Control stdev is: 0.2960968115977383\n",
      "Disease stdev is: 0.45947468837897243\n",
      "P_val is: 0.1421183462898354\n",
      "Not significant\n"
     ]
    },
    {
     "data": {
      "image/png": "[encoded data removed]",
      "text/plain": [
       "<Figure size 432x288 with 1 Axes>"
      ]
     },
     "metadata": {
      "needs_background": "light"
     },
     "output_type": "display_data"
    },
    {
     "name": "stdout",
     "output_type": "stream",
     "text": [
      "Control vs. Disease for Cingulum_Post_prime\n",
      "Control mean is: 0.5930045806633634\n",
      "Disease mean is: 0.35667958464639593\n",
      "Control stdev is: 0.4528335874846876\n",
      "Disease stdev is: 0.7375587428600725\n",
      "P_val is: 0.1785277440091783\n",
      "Not significant\n"
     ]
    },
    {
     "data": {
      "image/png": "[encoded data removed]",
      "text/plain": [
       "<Figure size 432x288 with 1 Axes>"
      ]
     },
     "metadata": {
      "needs_background": "light"
     },
     "output_type": "display_data"
    },
    {
     "name": "stdout",
     "output_type": "stream",
     "text": [
      "Control vs. Disease for Parietal_Sup_prime\n",
      "Control mean is: 0.577342689047973\n",
      "Disease mean is: 0.5106518547779872\n",
      "Control stdev is: 0.25148617974176246\n",
      "Disease stdev is: 0.3879058367781558\n",
      "P_val is: 0.4742223250015919\n",
      "Not significant\n"
     ]
    },
    {
     "data": {
      "image/png": "[encoded data removed]",
      "text/plain": [
       "<Figure size 432x288 with 1 Axes>"
      ]
     },
     "metadata": {
      "needs_background": "light"
     },
     "output_type": "display_data"
    },
    {
     "name": "stdout",
     "output_type": "stream",
     "text": [
      "Control vs. Disease for Parietal_Inf_prime\n",
      "Control mean is: 0.628040252719956\n",
      "Disease mean is: 0.5354666276206524\n",
      "Control stdev is: 0.2781819217393937\n",
      "Disease stdev is: 0.45924424212037024\n",
      "P_val is: 0.39293593103436886\n",
      "Not significant\n"
     ]
    },
    {
     "data": {
      "image/png": "[encoded data removed]",
      "text/plain": [
       "<Figure size 432x288 with 1 Axes>"
      ]
     },
     "metadata": {
      "needs_background": "light"
     },
     "output_type": "display_data"
    },
    {
     "name": "stdout",
     "output_type": "stream",
     "text": [
      "Control vs. Disease for Occipital_Sup_prime\n",
      "Control mean is: 0.6363710670468429\n",
      "Disease mean is: 0.49930496324224355\n",
      "Control stdev is: 0.23134296938609952\n",
      "Disease stdev is: 0.37831773307678607\n",
      "P_val is: 0.12880147738044231\n",
      "Not significant\n"
     ]
    },
    {
     "data": {
      "image/png": "[encoded data removed]",
      "text/plain": [
       "<Figure size 432x288 with 1 Axes>"
      ]
     },
     "metadata": {
      "needs_background": "light"
     },
     "output_type": "display_data"
    },
    {
     "name": "stdout",
     "output_type": "stream",
     "text": [
      "Control vs. Disease for Occipital_Inf_prime\n",
      "Control mean is: 0.6135945969777753\n",
      "Disease mean is: 0.44137913870643725\n",
      "Control stdev is: 0.4107896050066416\n",
      "Disease stdev is: 0.6511039549888348\n",
      "P_val is: 0.2689261649401775\n",
      "Not significant\n"
     ]
    },
    {
     "data": {
      "image/png": "[encoded data removed]",
      "text/plain": [
       "<Figure size 432x288 with 1 Axes>"
      ]
     },
     "metadata": {
      "needs_background": "light"
     },
     "output_type": "display_data"
    },
    {
     "name": "stdout",
     "output_type": "stream",
     "text": [
      "Control vs. Disease for Temporal_Sup_prime\n",
      "Control mean is: 0.537799144222935\n",
      "Disease mean is: 0.4595012934125173\n",
      "Control stdev is: 0.2616148407450696\n",
      "Disease stdev is: 0.440249726939689\n",
      "P_val is: 0.4483379816014105\n",
      "Not significant\n"
     ]
    },
    {
     "data": {
      "image/png": "[encoded data removed]",
      "text/plain": [
       "<Figure size 432x288 with 1 Axes>"
      ]
     },
     "metadata": {
      "needs_background": "light"
     },
     "output_type": "display_data"
    },
    {
     "name": "stdout",
     "output_type": "stream",
     "text": [
      "Control vs. Disease for Temporal_Inf_prime\n",
      "Control mean is: 0.5716850810947895\n",
      "Disease mean is: 0.4579141944235856\n",
      "Control stdev is: 0.3675226991111327\n",
      "Disease stdev is: 0.5734984414182744\n",
      "P_val is: 0.40778158235880835\n",
      "Not significant\n"
     ]
    },
    {
     "data": {
      "image/png": "[encoded data removed]",
      "text/plain": [
       "<Figure size 432x288 with 1 Axes>"
      ]
     },
     "metadata": {
      "needs_background": "light"
     },
     "output_type": "display_data"
    },
    {
     "name": "stdout",
     "output_type": "stream",
     "text": [
      "[]\n"
     ]
    }
   ],
   "source": [
    "sex_df = res_df[res_df['sex'] == 0]\n",
    "control_df = sex_df[sex_df['diagnosis'] == 0]\n",
    "disease_df = sex_df[sex_df['diagnosis'] == 1]\n",
    "sig_lst = []\n",
    "\n",
    "for i in residualized_biomarkers:\n",
    "    print(\"Control vs. Disease for \"+ i)\n",
    "    print(\"Control mean is: \" + str(statistics.mean(control_df[i])))\n",
    "    print(\"Disease mean is: \" + str(statistics.mean(disease_df[i])))\n",
    "    print(\"Control stdev is: \" + str(statistics.stdev(control_df[i])))\n",
    "    print(\"Disease stdev is: \" + str(statistics.stdev(disease_df[i])))\n",
    "    p_val = two_sample_t_test_p(control_df[i],disease_df[i])\n",
    "    print(\"P_val is: \" + str(p_val))\n",
    "    if p_val > 0.05:\n",
    "        print('Not significant')\n",
    "    else:\n",
    "        print(\"Significant\")\n",
    "        sig_lst.append(i)\n",
    "    plt.figure()\n",
    "    ax = sns.boxplot(data=[control_df[i], disease_df[i]])\n",
    "    ax.set_xticklabels(['Control','Disease'])\n",
    "    plt.show()\n",
    "print(sig_lst)"
   ]
  },
  {
   "cell_type": "code",
   "execution_count": 11,
   "id": "7c0e6ce9",
   "metadata": {},
   "outputs": [
    {
     "name": "stdout",
     "output_type": "stream",
     "text": [
      "Control vs. Disease for Frontal_Sup_prime\n",
      "Control mean is: 0.5322673984163384\n",
      "Disease mean is: 0.6165617079622865\n",
      "Control stdev is: 0.1452556626294186\n",
      "Disease stdev is: 0.2198318574748436\n",
      "P_val is: 0.11625123933051225\n",
      "Not significant\n"
     ]
    },
    {
     "data": {
      "image/png": "[encoded data removed]",
      "text/plain": [
       "<Figure size 432x288 with 1 Axes>"
      ]
     },
     "metadata": {
      "needs_background": "light"
     },
     "output_type": "display_data"
    },
    {
     "name": "stdout",
     "output_type": "stream",
     "text": [
      "Control vs. Disease for Frontal_Inf_prime\n",
      "Control mean is: 0.46986928299059383\n",
      "Disease mean is: 0.6824834534563793\n",
      "Control stdev is: 0.27769817386459433\n",
      "Disease stdev is: 0.4446454936309169\n",
      "P_val is: 0.048147156338209374\n",
      "Significant\n"
     ]
    },
    {
     "data": {
      "image/png": "[encoded data removed]",
      "text/plain": [
       "<Figure size 432x288 with 1 Axes>"
      ]
     },
     "metadata": {
      "needs_background": "light"
     },
     "output_type": "display_data"
    },
    {
     "name": "stdout",
     "output_type": "stream",
     "text": [
      "Control vs. Disease for Cingulum_Ant_prime\n",
      "Control mean is: 0.5564661558788538\n",
      "Disease mean is: 0.6522245766632501\n",
      "Control stdev is: 0.242138089519431\n",
      "Disease stdev is: 0.40619369289634905\n",
      "P_val is: 0.3163840158248872\n",
      "Not significant\n"
     ]
    },
    {
     "data": {
      "image/png": "[encoded data removed]",
      "text/plain": [
       "<Figure size 432x288 with 1 Axes>"
      ]
     },
     "metadata": {
      "needs_background": "light"
     },
     "output_type": "display_data"
    },
    {
     "name": "stdout",
     "output_type": "stream",
     "text": [
      "Control vs. Disease for Cingulum_Post_prime\n",
      "Control mean is: 0.43608039479085087\n",
      "Disease mean is: 0.7017523034635355\n",
      "Control stdev is: 0.37707318926045136\n",
      "Disease stdev is: 0.5942161339235756\n",
      "P_val is: 0.06514451121039384\n",
      "Not significant\n"
     ]
    },
    {
     "data": {
      "image/png": "[encoded data removed]",
      "text/plain": [
       "<Figure size 432x288 with 1 Axes>"
      ]
     },
     "metadata": {
      "needs_background": "light"
     },
     "output_type": "display_data"
    },
    {
     "name": "stdout",
     "output_type": "stream",
     "text": [
      "Control vs. Disease for Parietal_Sup_prime\n",
      "Control mean is: 0.5159081441761943\n",
      "Disease mean is: 0.6744742256718221\n",
      "Control stdev is: 0.21778505941283377\n",
      "Disease stdev is: 0.3458515897104618\n",
      "P_val is: 0.058287608545749534\n",
      "Not significant\n"
     ]
    },
    {
     "data": {
      "image/png": "[encoded data removed]",
      "text/plain": [
       "<Figure size 432x288 with 1 Axes>"
      ]
     },
     "metadata": {
      "needs_background": "light"
     },
     "output_type": "display_data"
    },
    {
     "name": "stdout",
     "output_type": "stream",
     "text": [
      "Control vs. Disease for Parietal_Inf_prime\n",
      "Control mean is: 0.5724850259396355\n",
      "Disease mean is: 0.7061147546214125\n",
      "Control stdev is: 0.24773684441910682\n",
      "Disease stdev is: 0.369062404867722\n",
      "P_val is: 0.13935292869187388\n",
      "Not significant\n"
     ]
    },
    {
     "data": {
      "image/png": "[encoded data removed]",
      "text/plain": [
       "<Figure size 432x288 with 1 Axes>"
      ]
     },
     "metadata": {
      "needs_background": "light"
     },
     "output_type": "display_data"
    },
    {
     "name": "stdout",
     "output_type": "stream",
     "text": [
      "Control vs. Disease for Occipital_Sup_prime\n",
      "Control mean is: 0.553551583693159\n",
      "Disease mean is: 0.6798911429313418\n",
      "Control stdev is: 0.2073898544159624\n",
      "Disease stdev is: 0.32832445964644597\n",
      "P_val is: 0.11035646831944818\n",
      "Not significant\n"
     ]
    },
    {
     "data": {
      "image/png": "[encoded data removed]",
      "text/plain": [
       "<Figure size 432x288 with 1 Axes>"
      ]
     },
     "metadata": {
      "needs_background": "light"
     },
     "output_type": "display_data"
    },
    {
     "name": "stdout",
     "output_type": "stream",
     "text": [
      "Control vs. Disease for Occipital_Inf_prime\n",
      "Control mean is: 0.4882048578191115\n",
      "Disease mean is: 0.7336389866435279\n",
      "Control stdev is: 0.33581522406433195\n",
      "Disease stdev is: 0.5307751006002822\n",
      "P_val is: 0.05656313111625934\n",
      "Not significant\n"
     ]
    },
    {
     "data": {
      "image/png": "[encoded data removed]",
      "text/plain": [
       "<Figure size 432x288 with 1 Axes>"
      ]
     },
     "metadata": {
      "needs_background": "light"
     },
     "output_type": "display_data"
    },
    {
     "name": "stdout",
     "output_type": "stream",
     "text": [
      "Control vs. Disease for Temporal_Sup_prime\n",
      "Control mean is: 0.47120042763611164\n",
      "Disease mean is: 0.6363640763259281\n",
      "Control stdev is: 0.22280665653455317\n",
      "Disease stdev is: 0.3620315434260877\n",
      "P_val is: 0.05793758374259854\n",
      "Not significant\n"
     ]
    },
    {
     "data": {
      "image/png": "[encoded data removed]",
      "text/plain": [
       "<Figure size 432x288 with 1 Axes>"
      ]
     },
     "metadata": {
      "needs_background": "light"
     },
     "output_type": "display_data"
    },
    {
     "name": "stdout",
     "output_type": "stream",
     "text": [
      "Control vs. Disease for Temporal_Inf_prime\n",
      "Control mean is: 0.4846192515321012\n",
      "Disease mean is: 0.6929550856129651\n",
      "Control stdev is: 0.33254336616050906\n",
      "Disease stdev is: 0.4617254569553564\n",
      "P_val is: 0.07336045792846133\n",
      "Not significant\n"
     ]
    },
    {
     "data": {
      "image/png": "[encoded data removed]",
      "text/plain": [
       "<Figure size 432x288 with 1 Axes>"
      ]
     },
     "metadata": {
      "needs_background": "light"
     },
     "output_type": "display_data"
    },
    {
     "name": "stdout",
     "output_type": "stream",
     "text": [
      "['Frontal_Inf_prime']\n"
     ]
    }
   ],
   "source": [
    "sex_df = res_df[res_df['sex'] == 1]\n",
    "control_df = sex_df[sex_df['diagnosis'] == 0]\n",
    "disease_df = sex_df[sex_df['diagnosis'] == 1]\n",
    "sig_lst = []\n",
    "\n",
    "for i in residualized_biomarkers:\n",
    "    print(\"Control vs. Disease for \"+ i)\n",
    "    print(\"Control mean is: \" + str(statistics.mean(control_df[i])))\n",
    "    print(\"Disease mean is: \" + str(statistics.mean(disease_df[i])))\n",
    "    print(\"Control stdev is: \" + str(statistics.stdev(control_df[i])))\n",
    "    print(\"Disease stdev is: \" + str(statistics.stdev(disease_df[i])))\n",
    "    p_val = two_sample_t_test_p(control_df[i],disease_df[i])\n",
    "    print(\"P_val is: \" + str(p_val))\n",
    "    if p_val > 0.05:\n",
    "        print('Not significant')\n",
    "    else:\n",
    "        print(\"Significant\")\n",
    "        sig_lst.append(i)\n",
    "    plt.figure()\n",
    "    ax = sns.boxplot(data=[control_df[i], disease_df[i]])\n",
    "    ax.set_xticklabels(['Control','Disease'])\n",
    "    plt.show()\n",
    "print(sig_lst)"
   ]
  },
  {
   "cell_type": "markdown",
   "id": "71b4e91d",
   "metadata": {},
   "source": [
    "Analysis: There seems to be a disease effect difference due to sex as can be seen in t_test results at Frontal Inf. Where there is a significance in difference of biomarker value at sex 1, while sex 0 had no significant disease effect at the same biomarker"
   ]
  },
  {
   "cell_type": "code",
   "execution_count": null,
   "id": "64bd4ec7",
   "metadata": {},
   "outputs": [],
   "source": []
  }
 ],
 "metadata": {
  "kernelspec": {
   "display_name": "Python 3 (ipykernel)",
   "language": "python",
   "name": "python3"
  },
  "language_info": {
   "codemirror_mode": {
    "name": "ipython",
    "version": 3
   },
   "file_extension": ".py",
   "mimetype": "text/x-python",
   "name": "python",
   "nbconvert_exporter": "python",
   "pygments_lexer": "ipython3",
   "version": "3.8.12"
  }
 },
 "nbformat": 4,
 "nbformat_minor": 5
}
