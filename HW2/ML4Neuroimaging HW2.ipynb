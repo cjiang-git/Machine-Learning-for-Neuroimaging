{
 "cells": [
  {
   "cell_type": "code",
   "execution_count": 1,
   "id": "1f97be50",
   "metadata": {},
   "outputs": [],
   "source": [
    "import numpy as np\n",
    "import pandas as pd\n",
    "from sklearn.svm import SVC\n",
    "from sklearn.linear_model import LogisticRegression\n",
    "import torch \n",
    "from torch import nn \n",
    "from torch.utils.data import Dataset\n",
    "from torch.utils.data import DataLoader\n",
    "from sklearn import metrics"
   ]
  },
  {
   "cell_type": "code",
   "execution_count": 2,
   "id": "e84d4119",
   "metadata": {},
   "outputs": [
    {
     "data": {
      "text/plain": [
       "False"
      ]
     },
     "execution_count": 2,
     "metadata": {},
     "output_type": "execute_result"
    }
   ],
   "source": [
    "torch.cuda.is_available()"
   ]
  },
  {
   "cell_type": "markdown",
   "id": "6a9b1a96",
   "metadata": {},
   "source": [
    "## Problem 3"
   ]
  },
  {
   "cell_type": "markdown",
   "id": "959c510d",
   "metadata": {},
   "source": [
    "### Make the NN model"
   ]
  },
  {
   "cell_type": "code",
   "execution_count": 3,
   "id": "098ec94f",
   "metadata": {
    "scrolled": true
   },
   "outputs": [],
   "source": [
    "data_path = 'data_assignment_1.csv'\n",
    "\n",
    "#Data import\n",
    "df3 = pd.read_csv(data_path)"
   ]
  },
  {
   "cell_type": "code",
   "execution_count": 4,
   "id": "023b0410",
   "metadata": {},
   "outputs": [
    {
     "data": {
      "text/html": [
       "<div>\n",
       "<style scoped>\n",
       "    .dataframe tbody tr th:only-of-type {\n",
       "        vertical-align: middle;\n",
       "    }\n",
       "\n",
       "    .dataframe tbody tr th {\n",
       "        vertical-align: top;\n",
       "    }\n",
       "\n",
       "    .dataframe thead th {\n",
       "        text-align: right;\n",
       "    }\n",
       "</style>\n",
       "<table border=\"1\" class=\"dataframe\">\n",
       "  <thead>\n",
       "    <tr style=\"text-align: right;\">\n",
       "      <th></th>\n",
       "      <th>Frontal_Sup</th>\n",
       "      <th>Frontal_Inf</th>\n",
       "      <th>Cingulum_Ant</th>\n",
       "      <th>Cingulum_Post</th>\n",
       "      <th>Parietal_Sup</th>\n",
       "      <th>Parietal_Inf</th>\n",
       "      <th>Occipital_Sup</th>\n",
       "      <th>Occipital_Inf</th>\n",
       "      <th>Temporal_Sup</th>\n",
       "      <th>Temporal_Inf</th>\n",
       "    </tr>\n",
       "  </thead>\n",
       "  <tbody>\n",
       "    <tr>\n",
       "      <th>0</th>\n",
       "      <td>0.541704</td>\n",
       "      <td>0.553985</td>\n",
       "      <td>0.577727</td>\n",
       "      <td>0.502631</td>\n",
       "      <td>0.539654</td>\n",
       "      <td>0.562739</td>\n",
       "      <td>0.584094</td>\n",
       "      <td>0.656325</td>\n",
       "      <td>0.529551</td>\n",
       "      <td>0.521926</td>\n",
       "    </tr>\n",
       "    <tr>\n",
       "      <th>1</th>\n",
       "      <td>0.665915</td>\n",
       "      <td>0.477778</td>\n",
       "      <td>0.525422</td>\n",
       "      <td>0.473192</td>\n",
       "      <td>0.589977</td>\n",
       "      <td>0.656130</td>\n",
       "      <td>0.677115</td>\n",
       "      <td>0.571440</td>\n",
       "      <td>0.430463</td>\n",
       "      <td>0.499023</td>\n",
       "    </tr>\n",
       "    <tr>\n",
       "      <th>2</th>\n",
       "      <td>0.385500</td>\n",
       "      <td>0.535842</td>\n",
       "      <td>0.651637</td>\n",
       "      <td>0.556026</td>\n",
       "      <td>0.451074</td>\n",
       "      <td>0.602841</td>\n",
       "      <td>0.578349</td>\n",
       "      <td>0.626247</td>\n",
       "      <td>0.511696</td>\n",
       "      <td>0.531485</td>\n",
       "    </tr>\n",
       "    <tr>\n",
       "      <th>3</th>\n",
       "      <td>0.601210</td>\n",
       "      <td>0.500756</td>\n",
       "      <td>0.614601</td>\n",
       "      <td>0.581634</td>\n",
       "      <td>0.489078</td>\n",
       "      <td>0.615674</td>\n",
       "      <td>0.579836</td>\n",
       "      <td>0.548231</td>\n",
       "      <td>0.499937</td>\n",
       "      <td>0.612477</td>\n",
       "    </tr>\n",
       "    <tr>\n",
       "      <th>4</th>\n",
       "      <td>0.529871</td>\n",
       "      <td>0.521045</td>\n",
       "      <td>0.576609</td>\n",
       "      <td>0.557342</td>\n",
       "      <td>0.494459</td>\n",
       "      <td>0.577652</td>\n",
       "      <td>0.668027</td>\n",
       "      <td>0.520755</td>\n",
       "      <td>0.521910</td>\n",
       "      <td>0.503761</td>\n",
       "    </tr>\n",
       "    <tr>\n",
       "      <th>...</th>\n",
       "      <td>...</td>\n",
       "      <td>...</td>\n",
       "      <td>...</td>\n",
       "      <td>...</td>\n",
       "      <td>...</td>\n",
       "      <td>...</td>\n",
       "      <td>...</td>\n",
       "      <td>...</td>\n",
       "      <td>...</td>\n",
       "      <td>...</td>\n",
       "    </tr>\n",
       "    <tr>\n",
       "      <th>95</th>\n",
       "      <td>0.555299</td>\n",
       "      <td>0.597638</td>\n",
       "      <td>0.553309</td>\n",
       "      <td>0.523025</td>\n",
       "      <td>0.525431</td>\n",
       "      <td>0.667517</td>\n",
       "      <td>0.502397</td>\n",
       "      <td>0.601756</td>\n",
       "      <td>0.494372</td>\n",
       "      <td>0.637729</td>\n",
       "    </tr>\n",
       "    <tr>\n",
       "      <th>96</th>\n",
       "      <td>0.524961</td>\n",
       "      <td>0.631617</td>\n",
       "      <td>0.382947</td>\n",
       "      <td>0.410978</td>\n",
       "      <td>0.505315</td>\n",
       "      <td>0.611400</td>\n",
       "      <td>0.605452</td>\n",
       "      <td>0.625818</td>\n",
       "      <td>0.445138</td>\n",
       "      <td>0.534949</td>\n",
       "    </tr>\n",
       "    <tr>\n",
       "      <th>97</th>\n",
       "      <td>0.490657</td>\n",
       "      <td>0.652892</td>\n",
       "      <td>0.654747</td>\n",
       "      <td>0.656929</td>\n",
       "      <td>0.521088</td>\n",
       "      <td>0.702478</td>\n",
       "      <td>0.640216</td>\n",
       "      <td>0.537376</td>\n",
       "      <td>0.642808</td>\n",
       "      <td>0.598981</td>\n",
       "    </tr>\n",
       "    <tr>\n",
       "      <th>98</th>\n",
       "      <td>0.584763</td>\n",
       "      <td>0.602108</td>\n",
       "      <td>0.465685</td>\n",
       "      <td>0.602878</td>\n",
       "      <td>0.693304</td>\n",
       "      <td>0.707188</td>\n",
       "      <td>0.685981</td>\n",
       "      <td>0.683557</td>\n",
       "      <td>0.697648</td>\n",
       "      <td>0.688851</td>\n",
       "    </tr>\n",
       "    <tr>\n",
       "      <th>99</th>\n",
       "      <td>0.498238</td>\n",
       "      <td>0.661749</td>\n",
       "      <td>0.460143</td>\n",
       "      <td>0.661333</td>\n",
       "      <td>0.694017</td>\n",
       "      <td>0.742571</td>\n",
       "      <td>0.596009</td>\n",
       "      <td>0.785511</td>\n",
       "      <td>0.575335</td>\n",
       "      <td>0.539668</td>\n",
       "    </tr>\n",
       "  </tbody>\n",
       "</table>\n",
       "<p>100 rows × 10 columns</p>\n",
       "</div>"
      ],
      "text/plain": [
       "    Frontal_Sup  Frontal_Inf  Cingulum_Ant  Cingulum_Post  Parietal_Sup  \\\n",
       "0      0.541704     0.553985      0.577727       0.502631      0.539654   \n",
       "1      0.665915     0.477778      0.525422       0.473192      0.589977   \n",
       "2      0.385500     0.535842      0.651637       0.556026      0.451074   \n",
       "3      0.601210     0.500756      0.614601       0.581634      0.489078   \n",
       "4      0.529871     0.521045      0.576609       0.557342      0.494459   \n",
       "..          ...          ...           ...            ...           ...   \n",
       "95     0.555299     0.597638      0.553309       0.523025      0.525431   \n",
       "96     0.524961     0.631617      0.382947       0.410978      0.505315   \n",
       "97     0.490657     0.652892      0.654747       0.656929      0.521088   \n",
       "98     0.584763     0.602108      0.465685       0.602878      0.693304   \n",
       "99     0.498238     0.661749      0.460143       0.661333      0.694017   \n",
       "\n",
       "    Parietal_Inf  Occipital_Sup  Occipital_Inf  Temporal_Sup  Temporal_Inf  \n",
       "0       0.562739       0.584094       0.656325      0.529551      0.521926  \n",
       "1       0.656130       0.677115       0.571440      0.430463      0.499023  \n",
       "2       0.602841       0.578349       0.626247      0.511696      0.531485  \n",
       "3       0.615674       0.579836       0.548231      0.499937      0.612477  \n",
       "4       0.577652       0.668027       0.520755      0.521910      0.503761  \n",
       "..           ...            ...            ...           ...           ...  \n",
       "95      0.667517       0.502397       0.601756      0.494372      0.637729  \n",
       "96      0.611400       0.605452       0.625818      0.445138      0.534949  \n",
       "97      0.702478       0.640216       0.537376      0.642808      0.598981  \n",
       "98      0.707188       0.685981       0.683557      0.697648      0.688851  \n",
       "99      0.742571       0.596009       0.785511      0.575335      0.539668  \n",
       "\n",
       "[100 rows x 10 columns]"
      ]
     },
     "execution_count": 4,
     "metadata": {},
     "output_type": "execute_result"
    }
   ],
   "source": [
    "df3.iloc[:, 3:]"
   ]
  },
  {
   "cell_type": "code",
   "execution_count": 5,
   "id": "e38b0908",
   "metadata": {},
   "outputs": [
    {
     "data": {
      "text/plain": [
       "0     0\n",
       "1     0\n",
       "2     0\n",
       "3     0\n",
       "4     0\n",
       "     ..\n",
       "95    1\n",
       "96    1\n",
       "97    1\n",
       "98    1\n",
       "99    1\n",
       "Name: diagnosis, Length: 100, dtype: int64"
      ]
     },
     "execution_count": 5,
     "metadata": {},
     "output_type": "execute_result"
    }
   ],
   "source": [
    "df3.iloc[:, 2]"
   ]
  },
  {
   "cell_type": "code",
   "execution_count": 6,
   "id": "6550ecc3",
   "metadata": {},
   "outputs": [],
   "source": [
    "#Shuffle the data\n",
    "df3_s = df3.sample(frac = 1)"
   ]
  },
  {
   "cell_type": "code",
   "execution_count": 7,
   "id": "415c86f6",
   "metadata": {},
   "outputs": [],
   "source": [
    "#k_fold preparation\n",
    "k = 5\n",
    "data_lst = []\n",
    "indices_lst = []\n",
    "\n",
    "for i in range(k):\n",
    "    indices_lst.append(int(len(df3_s)/k)*i)\n",
    "indices_lst.append(len(df3_s))\n",
    "\n",
    "\n",
    "for j in range(k):\n",
    "    #Obtained train_test splitted dataframe\n",
    "    split_test = df3_s[indices_lst[j]:indices_lst[j+1]]\n",
    "    split_train = df3_s.drop(split_test.index)\n",
    "    \n",
    "    train_X = split_train.iloc[:, 3:].values\n",
    "    train_y = split_train.iloc[:, 2].values\n",
    "    \n",
    "    test_X = split_test.iloc[:, 3:].values\n",
    "    test_y = split_test.iloc[:, 2].values\n",
    "    \n",
    "    data_lst.append([[train_X,train_y],[test_X,test_y]])"
   ]
  },
  {
   "cell_type": "code",
   "execution_count": null,
   "id": "78bf5fbd",
   "metadata": {},
   "outputs": [],
   "source": []
  },
  {
   "cell_type": "code",
   "execution_count": 8,
   "id": "aa77a8bd",
   "metadata": {},
   "outputs": [],
   "source": [
    "#Create Model, referenced tutorial\n",
    "class NNClassifier(nn.Module):\n",
    "    def __init__(self, input_size = None):\n",
    "        super().__init__()  \n",
    "        layers = []\n",
    "        #input\n",
    "        layers.append(nn.Linear(input_size, 8))\n",
    "        layers.append(nn.ReLU())\n",
    "        #hidden\n",
    "        layers.append(nn.Linear(8,6))\n",
    "        layers.append(nn.ReLU())\n",
    "        #output\n",
    "        layers.append(nn.Linear(6, 2))\n",
    "\n",
    "        self.layers = nn.Sequential(*layers)\n",
    "        self.flatten = nn.Flatten()\n",
    "        self.softmax = nn.Softmax(dim=1)\n",
    "        \n",
    "        \n",
    "    def forward(self, x):\n",
    "        x = self.flatten(x)\n",
    "        logits = self.layers(x)\n",
    "        return logits\n",
    "    \n",
    "    def predict(self, X):\n",
    "        self.eval()\n",
    "        with torch.no_grad():\n",
    "            pred = self(X)\n",
    "            return int(pred.argmax().detach())     \n",
    "        "
   ]
  },
  {
   "cell_type": "code",
   "execution_count": 9,
   "id": "cba50bbc",
   "metadata": {},
   "outputs": [
    {
     "name": "stdout",
     "output_type": "stream",
     "text": [
      "NNClassifier(\n",
      "  (layers): Sequential(\n",
      "    (0): Linear(in_features=10, out_features=8, bias=True)\n",
      "    (1): ReLU()\n",
      "    (2): Linear(in_features=8, out_features=6, bias=True)\n",
      "    (3): ReLU()\n",
      "    (4): Linear(in_features=6, out_features=2, bias=True)\n",
      "  )\n",
      "  (flatten): Flatten(start_dim=1, end_dim=-1)\n",
      "  (softmax): Softmax(dim=1)\n",
      ")\n"
     ]
    }
   ],
   "source": [
    "input_len = 10\n",
    "model = NNClassifier(input_len)\n",
    "print(model)"
   ]
  },
  {
   "cell_type": "code",
   "execution_count": 10,
   "id": "78fb7391",
   "metadata": {},
   "outputs": [],
   "source": [
    "# Referenced from tutorial\n",
    "def train_model(model, train_dl, optimizer, loss_f, nr_epochs, print_loss_every=10):\n",
    "    for t in range(nr_epochs):\n",
    "        model.train()\n",
    "        nr_batches = len(train_dl)\n",
    "        total_loss = 0\n",
    "        optimizer.zero_grad()\n",
    "        \n",
    "        \n",
    "        pred_lst = []\n",
    "        target_lst = []\n",
    "        \n",
    "        for _, (X, y) in enumerate(train_dl):\n",
    "            pred = model(X)\n",
    "            loss = loss_f(pred, y)\n",
    "            optimizer.zero_grad()\n",
    "            loss.backward()\n",
    "            optimizer.step()\n",
    "            total_loss += loss.item()\n",
    "            \n",
    "            pred_lst.append(pred.detach().numpy())\n",
    "            target_lst.append(y.detach().numpy())\n",
    "        \n",
    "        pred_lst = np.concatenate(pred_lst, axis=0)\n",
    "        target_lst =  np.concatenate(target_lst, axis=0)\n",
    "\n",
    "        \n",
    "        if t % print_loss_every == 0:\n",
    "            print(f\"Epoch {t} loss {total_loss / nr_batches}, accuracy {metrics.accuracy_score(target_lst, pred_lst.argmax(1))}\")\n",
    "            \n",
    "    print(\"Training complete\")\n",
    "    \n",
    "def eval_model(model, dl):\n",
    "    model.eval()\n",
    "    targets = []\n",
    "    predictions = []\n",
    "    for _, (X, y) in enumerate(dl):\n",
    "        pred = model(X)\n",
    "        targets += list(y.detach().cpu().numpy())\n",
    "        predictions += list(pred.argmax(1).detach().cpu().numpy())\n",
    "        \n",
    "    accuracy = metrics.accuracy_score(targets, predictions)\n",
    "    precision = metrics.precision_score(targets,predictions)\n",
    "    recall = metrics.recall_score(targets,predictions)\n",
    "    fpr, tpr, _ = metrics.roc_curve(targets, predictions, pos_label=1)\n",
    "    auc = metrics.auc(fpr,tpr)\n",
    "    print('Accuracy: '+ str(accuracy))\n",
    "    print('Precision: '+ str(precision))\n",
    "    print('Recall: ' + str(recall))\n",
    "    print('AUC: ' + str(auc))\n",
    "    \n",
    "    return [accuracy,precision,recall,auc]"
   ]
  },
  {
   "cell_type": "code",
   "execution_count": 11,
   "id": "f7d8be98",
   "metadata": {},
   "outputs": [],
   "source": [
    "class df2Dataset(Dataset):\n",
    "    def __init__(self, df_lst, y_dtype=torch.int64):\n",
    "        self.X = torch.tensor(df_lst[0],dtype=torch.float32)\n",
    "        self.y = torch.tensor(df_lst[1],dtype=torch.int64)\n",
    "\n",
    "    def __len__(self):\n",
    "        return len(self.y)\n",
    "\n",
    "    def __getitem__(self, idx):\n",
    "        return self.X[idx], self.y[idx]"
   ]
  },
  {
   "cell_type": "code",
   "execution_count": 12,
   "id": "37a11003",
   "metadata": {
    "scrolled": false
   },
   "outputs": [
    {
     "name": "stdout",
     "output_type": "stream",
     "text": [
      "Current fold: 1\n",
      "Epoch 0 loss 0.6978609502315521, accuracy 0.4875\n",
      "Epoch 10 loss 0.6916820041835308, accuracy 0.525\n",
      "Epoch 20 loss 0.6843051061034202, accuracy 0.575\n",
      "Epoch 30 loss 0.6558821562677621, accuracy 0.6125\n",
      "Epoch 40 loss 0.6208465065807104, accuracy 0.65\n",
      "Epoch 50 loss 0.5996514555066824, accuracy 0.65\n",
      "Epoch 60 loss 0.5916382543742656, accuracy 0.65\n",
      "Epoch 70 loss 0.578793865069747, accuracy 0.675\n",
      "Epoch 80 loss 0.5759369240142405, accuracy 0.6625\n",
      "Epoch 90 loss 0.5687971205450595, accuracy 0.6625\n",
      "Training complete\n",
      "Accuracy: 0.5\n",
      "Precision: 0.5333333333333333\n",
      "Recall: 0.7272727272727273\n",
      "AUC: 0.4747474747474747\n",
      "Current fold: 2\n",
      "Epoch 0 loss 0.6954662814736366, accuracy 0.525\n",
      "Epoch 10 loss 0.6933379180729389, accuracy 0.525\n",
      "Epoch 20 loss 0.69315440133214, accuracy 0.525\n",
      "Epoch 30 loss 0.6926877319812774, accuracy 0.525\n",
      "Epoch 40 loss 0.691290645301342, accuracy 0.525\n",
      "Epoch 50 loss 0.6853299655020237, accuracy 0.525\n",
      "Epoch 60 loss 0.6690097652375698, accuracy 0.6\n",
      "Epoch 70 loss 0.6443586748093366, accuracy 0.6375\n",
      "Epoch 80 loss 0.6230649055913091, accuracy 0.65\n",
      "Epoch 90 loss 0.6080942202359438, accuracy 0.65\n",
      "Training complete\n",
      "Accuracy: 0.6\n",
      "Precision: 0.5\n",
      "Recall: 0.625\n",
      "AUC: 0.6041666666666666\n",
      "Current fold: 3\n",
      "Epoch 0 loss 0.6962924852967263, accuracy 0.5\n",
      "Epoch 10 loss 0.6940609581768513, accuracy 0.4375\n",
      "Epoch 20 loss 0.6941252291202545, accuracy 0.425\n",
      "Epoch 30 loss 0.6940019495785237, accuracy 0.425\n",
      "Epoch 40 loss 0.6939104564487935, accuracy 0.425\n",
      "Epoch 50 loss 0.6935535363852978, accuracy 0.5\n",
      "Epoch 60 loss 0.6903488442301751, accuracy 0.575\n",
      "Epoch 70 loss 0.6753968745470047, accuracy 0.575\n",
      "Epoch 80 loss 0.64672841578722, accuracy 0.625\n",
      "Epoch 90 loss 0.6195594217628241, accuracy 0.6375\n",
      "Training complete\n",
      "Accuracy: 0.75\n",
      "Precision: 0.6923076923076923\n",
      "Recall: 0.9\n",
      "AUC: 0.75\n",
      "Current fold: 4\n",
      "Epoch 0 loss 0.7484853073954583, accuracy 0.4875\n",
      "Epoch 10 loss 0.6949606396257877, accuracy 0.4875\n",
      "Epoch 20 loss 0.6929205641150474, accuracy 0.55\n",
      "Epoch 30 loss 0.6909719184041023, accuracy 0.5\n",
      "Epoch 40 loss 0.6827664628624917, accuracy 0.55\n",
      "Epoch 50 loss 0.6641062863171101, accuracy 0.6\n",
      "Epoch 60 loss 0.637104831635952, accuracy 0.625\n",
      "Epoch 70 loss 0.6166333081200719, accuracy 0.6375\n",
      "Epoch 80 loss 0.6000527913682163, accuracy 0.65\n",
      "Epoch 90 loss 0.5937863225582987, accuracy 0.6625\n",
      "Training complete\n",
      "Accuracy: 0.6\n",
      "Precision: 0.7142857142857143\n",
      "Recall: 0.45454545454545453\n",
      "AUC: 0.6161616161616161\n",
      "Current fold: 5\n",
      "Epoch 0 loss 0.7434648428112268, accuracy 0.5\n",
      "Epoch 10 loss 0.7009265050292015, accuracy 0.425\n",
      "Epoch 20 loss 0.6989669226109981, accuracy 0.425\n",
      "Epoch 30 loss 0.6975848935544491, accuracy 0.45\n",
      "Epoch 40 loss 0.6964894391596317, accuracy 0.45\n",
      "Epoch 50 loss 0.6955654658377171, accuracy 0.45\n",
      "Epoch 60 loss 0.6946943245828152, accuracy 0.45\n",
      "Epoch 70 loss 0.6936846882104873, accuracy 0.45\n",
      "Epoch 80 loss 0.6916708752512932, accuracy 0.475\n",
      "Epoch 90 loss 0.6869135163724422, accuracy 0.5375\n",
      "Training complete\n",
      "Accuracy: 0.65\n",
      "Precision: 0.6666666666666666\n",
      "Recall: 0.6\n",
      "AUC: 0.6499999999999999\n"
     ]
    }
   ],
   "source": [
    "#Train model and evalute\n",
    "score_lst = []\n",
    "fold_cnt = 1\n",
    "no_epoch = 100\n",
    "\n",
    "\n",
    "for i in data_lst:\n",
    "    train_dl = DataLoader(df2Dataset(i[0])) \n",
    "    test_dl = DataLoader(df2Dataset(i[1]))\n",
    "    print(\"Current fold: \"+ str(fold_cnt))\n",
    "    fold_cnt+=1\n",
    "    \n",
    "    model = NNClassifier(10) \n",
    "    \n",
    "    optimizer = torch.optim.Adam(model.parameters(), lr=0.002)\n",
    "    loss_function = nn.CrossEntropyLoss()\n",
    "    \n",
    "    train_model(model, train_dl, optimizer, loss_function,no_epoch, )\n",
    "    score_lst.append(eval_model(model,test_dl))\n",
    "    "
   ]
  },
  {
   "cell_type": "markdown",
   "id": "19310977",
   "metadata": {},
   "source": [
    "### Log Regression and SVM"
   ]
  },
  {
   "cell_type": "code",
   "execution_count": 13,
   "id": "f3fd9ec6",
   "metadata": {},
   "outputs": [
    {
     "data": {
      "text/plain": [
       "array([1, 1, 0, 1, 1, 1, 1, 1, 0, 1, 1, 0, 0, 0, 0, 0, 1, 1, 0, 0])"
      ]
     },
     "execution_count": 13,
     "metadata": {},
     "output_type": "execute_result"
    }
   ],
   "source": [
    "data_lst[0][1][1]"
   ]
  },
  {
   "cell_type": "code",
   "execution_count": 14,
   "id": "4b5d1a9b",
   "metadata": {
    "scrolled": true
   },
   "outputs": [
    {
     "name": "stdout",
     "output_type": "stream",
     "text": [
      "Current fold: 1\n",
      "log test accuracy:  0.6\n",
      "svm test accuracy:  0.6\n",
      "Current fold: 2\n",
      "log test accuracy:  0.6\n",
      "svm test accuracy:  0.4\n",
      "Current fold: 3\n",
      "log test accuracy:  0.65\n",
      "svm test accuracy:  0.6\n",
      "Current fold: 4\n",
      "log test accuracy:  0.6\n",
      "svm test accuracy:  0.5\n",
      "Current fold: 5\n",
      "log test accuracy:  0.65\n",
      "svm test accuracy:  0.7\n"
     ]
    }
   ],
   "source": [
    "svm_score_lst = []\n",
    "log_score_lst = []\n",
    "\n",
    "fold_cnt = 1\n",
    "for i in data_lst:\n",
    "    print(\"Current fold: \"+ str(fold_cnt))\n",
    "    fold_cnt+=1\n",
    "    \n",
    "    X_train = i[0][0]\n",
    "    Y_train = i[0][1]\n",
    "    X_test = i[1][0]\n",
    "    Y_test = i[1][1]\n",
    "    \n",
    "    \n",
    "    log_model = LogisticRegression(random_state=0, max_iter=200)\n",
    "    log_model.fit(X_train, Y_train)\n",
    "\n",
    "    logtrain_pred = log_model.predict(X_train)\n",
    "    logtest_pred = log_model.predict(X_test)\n",
    "    \n",
    "    \n",
    "    accuracy = metrics.accuracy_score(Y_test,logtest_pred)\n",
    "    precision = metrics.precision_score(Y_test,logtest_pred)\n",
    "    recall = metrics.recall_score(Y_test,logtest_pred)\n",
    "    fpr, tpr, _ = metrics.roc_curve(Y_test,logtest_pred, pos_label=1)\n",
    "    auc = metrics.auc(fpr,tpr)\n",
    "    print(\"log test accuracy: \", accuracy)\n",
    "\n",
    "    log_score_lst.append([accuracy,precision,recall,auc])\n",
    "    \n",
    "    svm = SVC(gamma='auto', kernel='linear')\n",
    "    svm.fit(X_train, Y_train)\n",
    "    svmtrain_pred = svm.predict(X_train)\n",
    "    svmtest_pred = svm.predict(X_test)\n",
    "    \n",
    "    accuracy = metrics.accuracy_score(Y_test,svmtest_pred)\n",
    "    precision = metrics.precision_score(Y_test,svmtest_pred)\n",
    "    recall = metrics.recall_score(Y_test,svmtest_pred)\n",
    "    fpr, tpr, _ = metrics.roc_curve(Y_test,svmtest_pred, pos_label=1)\n",
    "    auc = metrics.auc(fpr,tpr)\n",
    "    print(\"svm test accuracy: \", accuracy)\n",
    "    \n",
    "    log_score_lst.append([accuracy,precision,recall,auc])\n",
    "    "
   ]
  },
  {
   "cell_type": "code",
   "execution_count": null,
   "id": "e35413d4",
   "metadata": {},
   "outputs": [],
   "source": []
  },
  {
   "cell_type": "markdown",
   "id": "b4ad2c12",
   "metadata": {},
   "source": [
    "# Problem 4"
   ]
  },
  {
   "cell_type": "code",
   "execution_count": 15,
   "id": "8fd16aee",
   "metadata": {},
   "outputs": [],
   "source": [
    "import os\n",
    "import cv2\n",
    "from torch.utils.data import Dataset\n",
    "from torch.nn import ConvTranspose2d\n",
    "from torch.nn import Conv2d\n",
    "from torch.nn import MaxPool2d\n",
    "from torch.nn import Module\n",
    "from torch.nn import ModuleList\n",
    "from torch.nn import ReLU\n",
    "from torchvision.transforms import CenterCrop\n",
    "from torch.nn import functional as F\n",
    "import torch\n",
    "\n",
    "from torch.nn import BCEWithLogitsLoss\n",
    "from torch.optim import Adam\n",
    "from torch.utils.data import DataLoader\n",
    "from sklearn.model_selection import train_test_split\n",
    "from torchvision import transforms\n",
    "from tqdm import tqdm\n",
    "import matplotlib.pyplot as plt\n",
    "import torch\n",
    "import time\n",
    "import os"
   ]
  },
  {
   "cell_type": "code",
   "execution_count": 16,
   "id": "cf3d460f",
   "metadata": {},
   "outputs": [],
   "source": [
    "BATCH_SIZE = 16"
   ]
  },
  {
   "cell_type": "markdown",
   "id": "a187f17b",
   "metadata": {},
   "source": [
    "### Data input and train_test_split"
   ]
  },
  {
   "cell_type": "code",
   "execution_count": 17,
   "id": "88e0b45f",
   "metadata": {},
   "outputs": [],
   "source": [
    "data_path_4 = '/Users/charliejiang/Documents/Stanford/Machine-Learning-for-Neuroimaging/HW2/data_assignment_2/lgg-mri-segmentation/kaggle_3m'\n",
    "\n",
    "metadata = pd.read_csv(data_path_4 + '/data.csv')\n",
    "patient_id = metadata['Patient']"
   ]
  },
  {
   "cell_type": "code",
   "execution_count": 18,
   "id": "95b86b24",
   "metadata": {},
   "outputs": [
    {
     "name": "stdout",
     "output_type": "stream",
     "text": [
      "110\n"
     ]
    }
   ],
   "source": [
    "folder_lst = []\n",
    "for i in os.listdir(data_path_4):\n",
    "    if i[0:12] in patient_id.values:\n",
    "        folder_lst.append(os.path.join(data_path_4,i))\n",
    "print(len(folder_lst))"
   ]
  },
  {
   "cell_type": "code",
   "execution_count": 19,
   "id": "0b1cd7c0",
   "metadata": {},
   "outputs": [],
   "source": [
    "img_lst = []\n",
    "mask_lst = []\n",
    "#Obtain paths for both mask and MRI images at same time, ensuring path order is preservered\n",
    "for i in folder_lst:\n",
    "    file_lst = os.listdir(i)\n",
    "    for j in file_lst:\n",
    "        if j[-8:] != 'mask.tif':\n",
    "            img_lst.append(os.path.join(data_path_4,i,j))\n",
    "            mask_lst.append(os.path.join(data_path_4,i,j[:-4])+'_mask.tif')            "
   ]
  },
  {
   "cell_type": "code",
   "execution_count": 20,
   "id": "12e582ff",
   "metadata": {},
   "outputs": [],
   "source": [
    "#Test if input data is standarized\n",
    "shape_0 =  cv2.imread(img_lst[0]).shape\n",
    "for i in img_lst:    \n",
    "    if cv2.imread(i).shape != shape_0:\n",
    "        print(\"This aint it\")\n",
    "        break\n",
    "mshape_0 =  cv2.imread(img_lst[0]).shape    \n",
    "if mshape_0 != shape_0:\n",
    "    print(\"Nah\")\n",
    "for i in mask_lst:    \n",
    "    if cv2.imread(i).shape != mshape_0:\n",
    "        print(\"This aint it\")\n",
    "        break\n"
   ]
  },
  {
   "cell_type": "code",
   "execution_count": 21,
   "id": "3d8a9cb0",
   "metadata": {},
   "outputs": [],
   "source": [
    "initial_shape = (shape_0[0],shape_0[1])"
   ]
  },
  {
   "cell_type": "code",
   "execution_count": 22,
   "id": "fa6b9d61",
   "metadata": {},
   "outputs": [],
   "source": [
    "train_val_imgs,test_imgs,train_val_masks,test_masks = train_test_split(img_lst,mask_lst,test_size=0.2, random_state=42)\n",
    "train_imgs,val_imgs,train_masks,val_masks = train_test_split(train_val_imgs,train_val_masks,test_size=0.125, random_state=42)"
   ]
  },
  {
   "cell_type": "code",
   "execution_count": 23,
   "id": "711b30ea",
   "metadata": {},
   "outputs": [
    {
     "name": "stdout",
     "output_type": "stream",
     "text": [
      "2750\n",
      "393\n",
      "786\n"
     ]
    }
   ],
   "source": [
    "#Verify split is correct\n",
    "\n",
    "print(len(train_imgs))\n",
    "print(len(val_imgs))\n",
    "print(len(test_imgs))\n",
    "\n",
    "for i in val_imgs:\n",
    "    if i in train_imgs or i in test_imgs:\n",
    "        print('Error')\n",
    "        break\n",
    "for j in val_masks:\n",
    "    if j in train_masks or j in test_masks:\n",
    "        print('Error')\n",
    "        break\n",
    "        \n",
    "for i in test_imgs:\n",
    "    if i in train_imgs:\n",
    "        print('Error')\n",
    "        break\n",
    "for j in test_masks:\n",
    "    if j in train_masks:\n",
    "        print('Error')\n",
    "        break\n",
    "        "
   ]
  },
  {
   "cell_type": "code",
   "execution_count": 24,
   "id": "75e256b4",
   "metadata": {},
   "outputs": [],
   "source": [
    "class SegmentationDataset(Dataset):\n",
    "    def __init__(self, imagePaths, maskPaths):\n",
    "        self.imagePaths = imagePaths\n",
    "        self.maskPaths = maskPaths\n",
    "        self.transforms = transforms\n",
    "    def __len__(self):\n",
    "        return len(self.imagePaths)\n",
    "    def __getitem__(self, idx):\n",
    "        imagePath = self.imagePaths[idx]\n",
    "        image = cv2.imread(imagePath)\n",
    "        image = cv2.cvtColor(image, cv2.COLOR_BGR2RGB)\n",
    "        mask = cv2.imread(self.maskPaths[idx], 0)\n",
    "        \n",
    "        image = PIL.to\n",
    "        image = torch.tensor(image)\n",
    "        mask = torch.tensor(mask)\n",
    "        \n",
    "        return (image, mask)"
   ]
  },
  {
   "cell_type": "code",
   "execution_count": 25,
   "id": "bd72706c",
   "metadata": {},
   "outputs": [
    {
     "name": "stdout",
     "output_type": "stream",
     "text": [
      "[INFO] found 2750 examples in the training set...\n",
      "[INFO] found 393 examples in the val set...\n",
      "[INFO] found 786 examples in the test set...\n"
     ]
    }
   ],
   "source": [
    "trainDS = SegmentationDataset(imagePaths=train_imgs, maskPaths=train_masks)\n",
    "valDS = SegmentationDataset(imagePaths=val_imgs, maskPaths=val_masks)\n",
    "testDS = SegmentationDataset(imagePaths=test_imgs, maskPaths=test_masks)\n",
    "print(f\"[INFO] found {len(trainDS)} examples in the training set...\")\n",
    "print(f\"[INFO] found {len(valDS)} examples in the val set...\")\n",
    "print(f\"[INFO] found {len(testDS)} examples in the test set...\")\n",
    "\n",
    "trainLoader = DataLoader(trainDS, shuffle=True,batch_size = BATCH_SIZE,\n",
    "    num_workers=os.cpu_count())\n",
    "\n",
    "valLoader = DataLoader(valDS, shuffle=False,batch_size = BATCH_SIZE,\n",
    "    num_workers=os.cpu_count())\n",
    "\n",
    "testLoader = DataLoader(testDS, shuffle=False,batch_size = BATCH_SIZE,\n",
    "    num_workers=os.cpu_count())\n"
   ]
  },
  {
   "cell_type": "code",
   "execution_count": null,
   "id": "85a8f248",
   "metadata": {},
   "outputs": [],
   "source": [
    "trainDS.__getitem__(0)"
   ]
  },
  {
   "cell_type": "code",
   "execution_count": null,
   "id": "d6d59403",
   "metadata": {},
   "outputs": [],
   "source": [
    "class DConvBlock(nn.Module):\n",
    "    def __init__(self, in_channels, out_channels):\n",
    "        super().__init__()\n",
    "        self.double_conv = nn.Sequential(\n",
    "            nn.Conv2d(in_channels, out_channels, kernel_size=3),\n",
    "            nn.ReLU(inplace=True),\n",
    "            nn.Conv2d(out_channels, out_channels, kernel_size=3),\n",
    "            nn.ReLU(inplace=True)\n",
    "        )\n",
    "\n",
    "    def forward(self, x):\n",
    "        return self.double_conv(x)"
   ]
  },
  {
   "cell_type": "code",
   "execution_count": null,
   "id": "6b6a97a1",
   "metadata": {},
   "outputs": [],
   "source": [
    "class Encoder(Module):\n",
    "    def __init__(self, channels=(3, 16, 32, 64)):\n",
    "        super().__init__()\n",
    "        self.encBlocks = ModuleList(\n",
    "            [DConvBlock(channels[i], channels[i + 1])\n",
    "                 for i in range(len(channels) - 1)])\n",
    "        self.pool = MaxPool2d(2)\n",
    "    def forward(self, x):\n",
    "        blockOutputs = []\n",
    "        for block in self.encBlocks:\n",
    "            x = block(x)\n",
    "            blockOutputs.append(x)\n",
    "            x = self.pool(x)\n",
    "        return blockOutputs"
   ]
  },
  {
   "cell_type": "code",
   "execution_count": null,
   "id": "b1ea7d11",
   "metadata": {},
   "outputs": [],
   "source": [
    "class Decoder(Module):\n",
    "    def __init__(self, channels=(64, 32, 16)):\n",
    "        super().__init__()\n",
    "        self.channels = channels\n",
    "        self.upconvs = ModuleList(\n",
    "            [ConvTranspose2d(channels[i], channels[i + 1], 2, 2)\n",
    "                 for i in range(len(channels) - 1)])\n",
    "        self.dec_blocks = ModuleList(\n",
    "            [DConvBlock(channels[i], channels[i + 1])\n",
    "                for i in range(len(channels) - 1)])\n",
    "    def forward(self, x, encFeatures):\n",
    "        for i in range(len(self.channels) - 1):\n",
    "            x = self.upconvs[i](x)\n",
    "            encFeat = self.crop(encFeatures[i], x)\n",
    "            x = torch.cat([x, encFeat], dim=1)\n",
    "            x = self.dec_blocks[i](x)\n",
    "        return x\n",
    "    def crop(self, encFeatures, x):\n",
    "        (_, _, H, W) = x.shape\n",
    "        encFeatures = CenterCrop([H, W])(encFeatures)\n",
    "        return encFeatures\n"
   ]
  },
  {
   "cell_type": "code",
   "execution_count": null,
   "id": "05acac43",
   "metadata": {},
   "outputs": [],
   "source": [
    "class UNet(Module):\n",
    "    def __init__(self, encChannels=(3, 16, 32, 64),\n",
    "                 decChannels=(64, 32, 16),\n",
    "                 nbClasses=1, retainDim=True,\n",
    "                 outSize=initial_shape):\n",
    "        super().__init__()\n",
    "\n",
    "        self.encoder = Encoder(encChannels)\n",
    "        self.decoder = Decoder(decChannels)\n",
    "\n",
    "        self.head = Conv2d(decChannels[-1], nbClasses, 1)\n",
    "        self.retainDim = retainDim\n",
    "        self.outSize = outSize\n",
    "    def forward(self, x):\n",
    "        encFeatures = self.encoder(x)\n",
    "        decFeatures = self.decoder(encFeatures[::-1][0],encFeatures[::-1][1:])\n",
    "        map = self.head(decFeatures)\n",
    "        if self.retainDim:\n",
    "            map = F.interpolate(map, self.outSize)\n",
    "        return map"
   ]
  },
  {
   "cell_type": "code",
   "execution_count": null,
   "id": "2fe62e12",
   "metadata": {
    "scrolled": false
   },
   "outputs": [],
   "source": [
    "u_net=UNet()\n",
    "print(u_net)"
   ]
  },
  {
   "cell_type": "code",
   "execution_count": null,
   "id": "4c246b8d",
   "metadata": {},
   "outputs": [],
   "source": [
    "lr = 0.001\n",
    "lossfun = BCEWithLogitsLoss()\n",
    "optimizer = Adam(u_net.parameters(), lr)"
   ]
  },
  {
   "cell_type": "code",
   "execution_count": null,
   "id": "37b8c20e",
   "metadata": {},
   "outputs": [],
   "source": [
    "def jaccard_coeff(y_pred, y_true):\n",
    "        inter = np.dot(y_pred, y_true)\n",
    "        union = np.sum(y_pred) + np.sum(y_true) - inter\n",
    "        jaccard_index = inter/union\n",
    "\n",
    "        return jaccard_index.cpu().numpy()"
   ]
  },
  {
   "cell_type": "code",
   "execution_count": null,
   "id": "447af4a8",
   "metadata": {},
   "outputs": [],
   "source": [
    "def dice_coeff_binary(y_pred, y_true):\n",
    "        eps = 0.0001\n",
    "        inter = np.dot(y_pred, y_true)\n",
    "        union = np.sum(y_pred) + np.sum(y_true) - inter\n",
    "        return ((2 * inter.float() + eps) / (union.float() + eps)).cpu().numpy()"
   ]
  },
  {
   "cell_type": "code",
   "execution_count": null,
   "id": "07515fd7",
   "metadata": {},
   "outputs": [],
   "source": [
    "# loop over epochs\n",
    "def train_unet(unet,trainLoader,valLoader, opt,lossFunc,epoch_cnt = 100):\n",
    "    # Training model\n",
    "    startTime = time.time()\n",
    "    \n",
    "    train_loss = []\n",
    "    valid_loss = []\n",
    "    train_accuracy = []\n",
    "    valid_accuracy = []\n",
    "    train_dice = []\n",
    "    valid_dice = []\n",
    "    \n",
    "    for e in range(epoch_cnt):\n",
    "        unet.train()\n",
    "        \n",
    "        pred_lst = []\n",
    "        target_lst = []\n",
    "        pred_val_lst = []\n",
    "        train_epoch_loss = []\n",
    "\n",
    "        for (i, (x, y)) in enumerate(trainLoader):\n",
    "            pred = unet(x)\n",
    "            loss = lossFunc(pred, y)\n",
    "            \n",
    "            train_epoch_loss.append(loss)\n",
    "\n",
    "            opt.zero_grad()\n",
    "            loss.backward()\n",
    "            opt.step()\n",
    "\n",
    "            \n",
    "            pred_lst.append(pred.detach().numpy())\n",
    "            target_lst.append(y.detach().numpy())\n",
    "        \n",
    "        pred_lst = np.concatenate(pred_lst, axis=0)\n",
    "        target_lst =  np.concatenate(target_lst, axis=0)\n",
    "        \n",
    "\n",
    "        with torch.no_grad():\n",
    "            unet.eval()\n",
    "            for (x, y) in valLoader:\n",
    "                pred = unet(x)\n",
    "                pred_val_lst.append(pred.detach().numpy())\n",
    "                val_epoch_loss.append(loss(pred,y))\n",
    "            \n",
    "        pred_val_lst = np.concatenate(pred_lst, axis=0)\n",
    "                                    \n",
    "        avgTrainLoss = train_epoch_loss.mean()\n",
    "        avgTrainAccuracy = metrics.accuracy_score(target_lst, pred_lst.argmax(1))\n",
    "        \n",
    "        avgValLoss = val_epoch_loss.mean()\n",
    "    \n",
    "        train_accuracy.append(avgTrainAccuracy)\n",
    "        val_accuracy.append(avgValAccuracy)\n",
    "        train_loss.append(avgTrainLoss)\n",
    "        val_loss.append(avgValLoss)\n",
    "        \n",
    "        \n",
    "        print(f\"Epoch {e}: Training Accuracy: {avgTrainAccuracy} Loss: {avgTrainLoss}\")\n",
    "        print(f\"Epoch {e}: Validation Accuracy: {avgTrainAccuracy} Loss: {avgTrainLoss}\")\n",
    "\n",
    "    endTime = time.time()\n",
    "    print(\"[INFO] total time taken to train the model: {:.2f}s\".format(\n",
    "        endTime - startTime))\n",
    "    \n",
    "    #Validation"
   ]
  },
  {
   "cell_type": "code",
   "execution_count": null,
   "id": "fb040ece",
   "metadata": {},
   "outputs": [],
   "source": [
    "train_unet(u_net,trainLoader,valLoader,optimizer,lossfun,epoch_cnt = 100)"
   ]
  },
  {
   "cell_type": "code",
   "execution_count": null,
   "id": "d2f0748f",
   "metadata": {},
   "outputs": [],
   "source": []
  }
 ],
 "metadata": {
  "kernelspec": {
   "display_name": "Python 3 (ipykernel)",
   "language": "python",
   "name": "python3"
  },
  "language_info": {
   "codemirror_mode": {
    "name": "ipython",
    "version": 3
   },
   "file_extension": ".py",
   "mimetype": "text/x-python",
   "name": "python",
   "nbconvert_exporter": "python",
   "pygments_lexer": "ipython3",
   "version": "3.9.13"
  }
 },
 "nbformat": 4,
 "nbformat_minor": 5
}
